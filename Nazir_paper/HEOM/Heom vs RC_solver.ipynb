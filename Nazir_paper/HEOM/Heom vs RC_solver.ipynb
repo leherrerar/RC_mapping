{
 "cells": [
  {
   "cell_type": "code",
   "execution_count": 1,
   "metadata": {},
   "outputs": [
    {
     "name": "stdout",
     "output_type": "stream",
     "text": [
      "Populating the interactive namespace from numpy and matplotlib\n"
     ]
    }
   ],
   "source": [
    "%pylab inline\n",
    "import numpy as np\n",
    "from qutip import sigmax, sigmay, sigmaz, basis, expect\n",
    "from qutip.nonmarkov.heom import HSolverDL\n",
    "from qutip import *"
   ]
  },
  {
   "cell_type": "code",
   "execution_count": 2,
   "metadata": {},
   "outputs": [],
   "source": [
    "# Defining the system Hamiltonian\n",
    "wq = 0.5     # Energy of the 2-level system.\n",
    "Del = 1.0    # Tunnelling term\n",
    "Hsys = 0.5*wq*sigmaz() + 0.5*Del* sigmax()\n",
    "\n",
    "# Bath description parameters (for HEOM)\n",
    "Temperature = 1.0/0.95 # in units where Boltzmann factor is 1\n",
    "Nk = 2 # number of exponentials in approximation of the the spectral density\n",
    "Ncut = 20#30 # cut off parameter for the bath\n",
    "\n",
    "# System-bath coupling (Drude-Lorentz spectral density)\n",
    "Q = sigmaz() # coupling operator\n",
    "wc = 0.05 # cut off frequency\n",
    "alpha = 2.5/np.pi # coupling strenght\n",
    "\n",
    "hsolver = HSolverDL(Hsys, Q, alpha, Temperature, Ncut, Nk, wc, stats=True)# Define some operators with which we will measure the system\n"
   ]
  },
  {
   "cell_type": "code",
   "execution_count": null,
   "metadata": {},
   "outputs": [],
   "source": []
  },
  {
   "cell_type": "code",
   "execution_count": 3,
   "metadata": {},
   "outputs": [
    {
     "name": "stdout",
     "output_type": "stream",
     "text": [
      "Hierarchy Solver Stats\n",
      "======================\n",
      "\n",
      "config\n",
      "------\n",
      "### Timings:\n",
      " - 0:00:00.152186 (96.48% section, 20.21% total)\thierarchy contruct\n",
      " - 0:00:00.000706 (0.45% section, 0.09% total)\tLiouvillian contruct\n",
      " - 0:00:00.157744\tconfig total time\n",
      "### Counts:\n",
      " - 231\tNum hierarchy elements\n",
      " - 840\tNum he interactions\n",
      "### Messages:\n",
      " - options:\trenormalisation;boundary cutoff approx\n",
      "\n",
      "run\n",
      "---\n",
      "### Timings:\n",
      " - 0:00:00.000247 (0.04% section, 0.03% total)\tinitialize\n",
      " - 0:00:00.595003 (99.96% section, 79.02% total)\tintegrate\n",
      " - 0:00:00.595267\trun total time\n",
      "### Counts:\n",
      "### Messages:\n",
      "\n",
      "Summary\n",
      "-------\n",
      "0:00:00.753011\t solver total time\n"
     ]
    }
   ],
   "source": [
    "# Initial state of the system.\n",
    "initial_state= basis(2,1) * basis(2,1).dag()                # Initial state of the system.   \n",
    "# Times to record state\n",
    "tlist = np.linspace(0, 40, 600)\n",
    "# run the solver\n",
    "result = hsolver.run(initial_state, tlist)\n",
    "hsolver.stats.report()\n",
    "\n",
    "# 1,1 element of density matrix - corresonding to groundstate\n",
    "return_vals = [0.5*(sigmaz()-eye(2))]\n",
    "\n",
    "options = Options(nsteps=15000, store_states=True)        # Options for the solver.\n",
    "\n",
    "output = rcsolve(Hsys, initial_state, tlist, return_vals, Q, wc, alpha, Ncut, \n",
    "                Temperature, options=options)\n",
    "\n",
    "\n",
    "# Calculate expectation values in the bases\n",
    "P11exp = expect(result.states, return_vals)\n"
   ]
  },
  {
   "cell_type": "code",
   "execution_count": 4,
   "metadata": {},
   "outputs": [
    {
     "data": {
      "text/plain": [
       "<matplotlib.legend.Legend at 0x1df73f6c788>"
      ]
     },
     "execution_count": 4,
     "metadata": {},
     "output_type": "execute_result"
    },
    {
     "data": {
      "image/png": "[encoded data removed]",
      "text/plain": [
       "<Figure size 576x576 with 1 Axes>"
      ]
     },
     "metadata": {
      "needs_background": "light"
     },
     "output_type": "display_data"
    }
   ],
   "source": [
    "# Plot the results\n",
    "fig, axes = plt.subplots(1, 1, sharex=True, figsize=(8,8))\n",
    "axes.plot(tlist, -np.real(P11exp), 'b', linewidth=2, label=\"HEOM\")\n",
    "axes.plot(tlist, -real(output.expect[0]), 'r', linewidth=2, label=\"rc\")\n",
    "axes.set_xlabel(r't', fontsize=28)\n",
    "axes.legend(loc=0, fontsize=12)"
   ]
  },
  {
   "cell_type": "code",
   "execution_count": null,
   "metadata": {},
   "outputs": [],
   "source": []
  },
  {
   "cell_type": "code",
   "execution_count": null,
   "metadata": {},
   "outputs": [],
   "source": []
  }
 ],
 "metadata": {
  "kernelspec": {
   "display_name": "Python 3",
   "language": "python",
   "name": "python3"
  },
  "language_info": {
   "codemirror_mode": {
    "name": "ipython",
    "version": 3
   },
   "file_extension": ".py",
   "mimetype": "text/x-python",
   "name": "python",
   "nbconvert_exporter": "python",
   "pygments_lexer": "ipython3",
   "version": "3.7.6"
  }
 },
 "nbformat": 4,
 "nbformat_minor": 4
}
