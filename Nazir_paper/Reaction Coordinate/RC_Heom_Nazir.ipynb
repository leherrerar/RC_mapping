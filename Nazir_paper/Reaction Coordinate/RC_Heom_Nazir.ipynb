{
 "cells": [
  {
   "cell_type": "markdown",
   "metadata": {},
   "source": [
    "Quatum Trajectories Rc mapping\n",
    "\n",
    "$  H_0= \\frac{\\omega}{2} \\sigma_z + \\frac{\\Delta}{2} \\sigma_x+ \\Omega b ^{\\dagger} b +g \\sigma_z  \\left( b + b ^{\\dagger} \\right) + \\frac{g^2}{\\Omega} \\sigma_z^2 + \\Omega \\Delta_{RC} \\left( b + b ^{\\dagger} \\right)^2$\n",
    "\n",
    "$   H_B= \\sum_{k} \\Omega_k b_k ^{\\dagger} b_k $\n",
    "\n",
    "$   H_I= \\left( b + b ^{\\dagger} \\right) \\sum_k h_k \\left( b_k + b_k ^{\\dagger} \\right)$\n"
   ]
  },
  {
   "cell_type": "code",
   "execution_count": 1,
   "metadata": {},
   "outputs": [],
   "source": [
    "%matplotlib inline\n",
    "import matplotlib.pyplot as plt\n",
    "import numpy as np\n",
    "from qutip import *\n",
    "from numpy import linalg as LA\n",
    "import scipy.integrate as integrate\n",
    "from scipy.integrate import quad"
   ]
  },
  {
   "cell_type": "markdown",
   "metadata": {},
   "source": [
    "We construct the algebra of the $2 \\otimes n$ Hilbert space for the supersystem (2 level system and RC)"
   ]
  },
  {
   "cell_type": "code",
   "execution_count": 2,
   "metadata": {},
   "outputs": [
    {
     "name": "stdout",
     "output_type": "stream",
     "text": [
      "3.5588127170858854\n",
      "1.118033988749895\n"
     ]
    }
   ],
   "source": [
    "#### Parameters \n",
    "\n",
    "###################################\n",
    "delta = 1.0    # The number of qubits in the system.\n",
    "omega = 0.5     # Energy of the 2-level system.\n",
    "Hsys = 0.5 * omega * sigmaz() + 0.5 * delta * sigmax()\n",
    "\n",
    "\n",
    "\n",
    "wc = 0.05                # Cutoff frequency.\n",
    "alpha = 2.5/np.pi        # Coupling strength.\n",
    "N = 10                   # Number of cavity fock states.\n",
    "Temperature = 1/0.95     # Tempertaure.\n",
    "\n",
    "\n",
    "dot_energy, dot_state = Hsys.eigenstates()\n",
    "deltaE = dot_energy[1] - dot_energy[0]\n",
    "if (Temperature < deltaE/2):\n",
    "    warnings.warn(\"Given w_th might not provide accurate results\")\n",
    "gamma = deltaE / (2 * np.pi * wc)\n",
    "wa = 2 * np.pi * gamma * wc  # reaction coordinate frequency\n",
    "g = np.sqrt(np.pi * wa * alpha / 2.0)  # reaction coordinate coupling\n",
    "nb = (1 / (np.exp(wa/Temperature) - 1))\n",
    "\n",
    "\n",
    "print(gamma)\n",
    "print(wa)\n",
    "\n",
    "\n",
    "\n",
    "## Rc parameters\n",
    "omega_Rc= wa #10.0\n",
    "delta_Rc= (2/(375*np.pi))/omega_Rc\n",
    "#g=0.1795755\n",
    "##Temeperature\n",
    "beta=0.95\n",
    "\n",
    "##################### Hilbert space for the Hamitonial \n",
    "N_RC = 10 # number of basis states to consider\n",
    "b = destroy(N_RC)\n",
    "\n",
    "H0= omega/2 *tensor(sigmaz(), identity(N_RC) ) +  delta/2 *tensor(sigmax(), identity(N_RC) ) + omega_Rc *tensor(identity(2) , b.dag() * b )  + g* tensor(sigmaz(),  b.dag() + b ) + omega_Rc*delta_Rc *tensor(identity(2) , (b.dag() + b)*(b.dag() + b) ) \n",
    "\n",
    "\n",
    "\n",
    "\n",
    "\n",
    "#print(H0)\n"
   ]
  },
  {
   "cell_type": "markdown",
   "metadata": {},
   "source": [
    "We want ot star with a pure state of the type: \n",
    "<img src=\"initial_state_RC.PNG\">\n",
    "\n",
    "In orther to evolve this steta we need the pure state depocosition of the desity matrix"
   ]
  },
  {
   "cell_type": "code",
   "execution_count": 3,
   "metadata": {},
   "outputs": [],
   "source": [
    "# initial state\n",
    "#we defina a canoncical state \n",
    "\n",
    "##psi0 = basis(N_RC, 1)  ##A pure state to test  \n",
    "\n",
    "\n",
    "##Rc inicial state Thermal  \n",
    "H1 = b.dag() * b\n",
    "H2 = delta_Rc*(b.dag()+ b)*(b.dag()+ b)\n",
    "H_Rc= -beta*omega_Rc*(H1+H2)\n",
    "Exp= H_Rc.expm()\n",
    "Z_Rc=Exp.tr()\n",
    "rho_Rc_init=Exp/Z_Rc\n",
    "\n",
    "#print(rho_Rc_init)\n",
    "\n",
    "#psi0 = (1/np.sqrt(2.)) * (basis(2, 0) + basis(2, 1) )\n",
    "psi0 =  basis(2, 0) \n",
    "\n",
    "##Spin Inicial state \n",
    "rho_Spin= psi0*psi0.dag()\n",
    "#print(rho_Spin)\n",
    "\n",
    "###Tensor producto of the initial state\n",
    "rho_init=tensor(rho_Spin,rho_Rc_init) \n",
    "#print(rho_init)\n",
    "#print(rho_init.ptrace(0))\n",
    "#rho_init_IP=(1j*H0).expm()* rho_init*  (-1j*H0).expm()\n",
    "#print(rho_init_IP)\n",
    "#EV=rho_init.eigenstates()\n",
    "#print(EV)\n",
    "###Pure state Decomposition "
   ]
  },
  {
   "cell_type": "markdown",
   "metadata": {},
   "source": [
    "We prefomr the QT on the this system with a Limbland equation for the supersystem: \n",
    "\n",
    "<img src=\"Limband_eq.PNG\">\n",
    "\n",
    "where $\\gamma'=J(\\Omega)\\left[1+n_{B}(\\Omega)\\right]$ , $ \\bar{\\gamma}' = J(\\Omega) n_{B}(\\Omega)$ and $n_{B}(\\omega)=\\left[e^{\\beta \\omega}-1\\right]^{-1}$"
   ]
  },
  {
   "cell_type": "code",
   "execution_count": 4,
   "metadata": {},
   "outputs": [
    {
     "name": "stdout",
     "output_type": "stream",
     "text": [
      "6.081280985140722\n",
      "2.102407407843339\n"
     ]
    }
   ],
   "source": [
    "Gamma=gamma*omega_Rc*(1+nb)\n",
    "Gamma_bar=gamma*omega_Rc*nb\n",
    "\n",
    "print(Gamma)\n",
    "print(Gamma_bar)\n",
    "\n",
    "\n",
    "\n",
    "#gamma= 6.081280985140722#3.78385\n",
    "#gamma_bar=2.102407407843339 # 3.19535\n",
    "L1=tensor(identity(2) ,  b )\n",
    "L2=tensor(identity(2) , b.dag()  )\n",
    "L=[np.sqrt(Gamma) * L1, np.sqrt(Gamma_bar)*L2 ]\n",
    "N=len(L)\n",
    "\n",
    "#print(L)"
   ]
  },
  {
   "cell_type": "code",
   "execution_count": 5,
   "metadata": {},
   "outputs": [],
   "source": [
    "t0 = 0.0\n",
    "tf = 40.0\n",
    "time_steps = 200\n",
    "\n",
    "\n",
    "\n",
    "## Time range\n",
    "t = np.linspace(0, tf, time_steps)\n",
    "\n",
    "result = mesolve(H0, rho_init, t, L, options=Options(nsteps=1000))\n",
    "plt.rcParams['figure.figsize'] = [15,5]\n",
    "\n",
    "states_IP=result.states\n",
    "exp_result=[0 for i in range(len(states_IP))]\n",
    "trace=[0 for i in range(len(states_IP))]\n",
    "for i in range(len(states_IP)):\n",
    "    exp_result[i]=  (-1j*H0*t[i]).expm()* states_IP[i]*  (1j*H0*t[i]).expm()\n",
    "    trace[i]=  exp_result[i].ptrace(0)\n",
    "\n",
    "#print(states_IP[0])\n",
    "#plt.plot(t,result.expect[0],label='rx ME', color = \"g\")\n",
    "#plt.plot(t,result.expect[1],label='ry ME', color = \"b\")\n",
    "#plt.plot(t,result.expect[2],label='rz ME', color = \"r\")\n",
    "#plt.xlabel('time')\n",
    "#plt.legend()\n",
    "#plt.show()"
   ]
  },
  {
   "cell_type": "code",
   "execution_count": 6,
   "metadata": {},
   "outputs": [
    {
     "name": "stdout",
     "output_type": "stream",
     "text": [
      "Quantum object: dims = [[2], [2]], shape = (2, 2), type = oper, isherm = True\n",
      "Qobj data =\n",
      "[[1. 0.]\n",
      " [0. 0.]]\n"
     ]
    }
   ],
   "source": [
    "print(trace[0])\n",
    "\n",
    "p00=[0 for i in range(len(states_IP))]\n",
    "for i in range(len(states_IP)):\n",
    "    p00[i]=abs(0.5*expect(sigmaz()+identity(2),trace[i]))\n",
    "    \n",
    "###Exact sol\n",
    "\n",
    "\n"
   ]
  },
  {
   "cell_type": "code",
   "execution_count": null,
   "metadata": {},
   "outputs": [],
   "source": [
    "\n"
   ]
  },
  {
   "cell_type": "code",
   "execution_count": 7,
   "metadata": {},
   "outputs": [],
   "source": [
    "from qutip.nonmarkov.heom import HSolverDL\n",
    "# Defining the system Hamiltonian\n",
    "eps = 0.5     # Energy of the 2-level system.\n",
    "Del = 1.0    # Tunnelling term\n",
    "Hsys = 0.5*eps*sigmaz() + 0.5*Del* sigmax()\n",
    "\n",
    "\n",
    "temperature = 1.0/0.95 # in units where Boltzmann factor is 1\n",
    "Nk = 4 # number of exponentials in approximation of the the spectral density\n",
    "Ncut = 30 # cut off parameter for the bath\n",
    "\n",
    "temperature = 1.0/0.95 # in units where Boltzmann factor is 1\n",
    "Nk = 2 # number of exponentials in approximation of the the spectral density\n",
    "Ncut = 30 # cut off parameter for the bath\n",
    "\n",
    "Q = sigmaz() # coupling operator\n",
    "gam = 0.05 # cut off frequency\n",
    "lam =  2.5/np.pi # coupling strenght"
   ]
  },
  {
   "cell_type": "code",
   "execution_count": 8,
   "metadata": {},
   "outputs": [],
   "source": [
    "hsolver = HSolverDL(Hsys, Q, lam, temperature, Ncut, Nk, gam, stats=True)"
   ]
  },
  {
   "cell_type": "code",
   "execution_count": 9,
   "metadata": {},
   "outputs": [
    {
     "name": "stdout",
     "output_type": "stream",
     "text": [
      "Hierarchy Solver Stats\n",
      "======================\n",
      "\n",
      "config\n",
      "------\n",
      "### Timings:\n",
      " - 0:00:00.325997 (97.53% section, 18.96% total)\thierarchy contruct\n",
      " - 0:00:00.000889 (0.27% section, 0.05% total)\tLiouvillian contruct\n",
      " - 0:00:00.334265\tconfig total time\n",
      "### Counts:\n",
      " - 496\tNum hierarchy elements\n",
      " - 1860\tNum he interactions\n",
      "### Messages:\n",
      " - options:\trenormalisation;boundary cutoff approx\n",
      "\n",
      "run\n",
      "---\n",
      "### Timings:\n",
      " - 0:00:00.000653 (0.05% section, 0.04% total)\tinitialize\n",
      " - 0:00:01.384821 (99.95% section, 80.52% total)\tintegrate\n",
      " - 0:00:01.385492\trun total time\n",
      "### Counts:\n",
      "### Messages:\n",
      "\n",
      "Summary\n",
      "-------\n",
      "0:00:01.719757\t solver total time\n"
     ]
    }
   ],
   "source": [
    "# Initial state of the system.\n",
    "rho0 = basis(2,0) * basis(2,0).dag()   \n",
    "# Times to record state\n",
    "tlist = np.linspace(0, 40, 600)\n",
    "# run the solver\n",
    "result = hsolver.run(rho0, tlist)\n",
    "hsolver.stats.report()\n",
    "\n"
   ]
  },
  {
   "cell_type": "code",
   "execution_count": 10,
   "metadata": {},
   "outputs": [],
   "source": [
    "# Define some operators with which we will measure the system\n",
    "# 1,1 element of density matrix - corresonding to groundstate\n",
    "#P11p=basis(2,0) * basis(2,0).dag()\n",
    "P00p=0.5*(sigmaz()+identity(2))\n",
    "# 1,2 element of density matrix  - corresonding to coherence\n",
    "P01p=basis(2,0) * basis(2,1).dag()\n",
    "# Calculate expectation values in the bases\n",
    "P00exp = expect(result.states, P00p)\n",
    "P01exp = expect(result.states, P01p)\n",
    "\n",
    "\n",
    "#result = sesolve(Hsys, basis(2,0), tlist, [P11p])\n"
   ]
  },
  {
   "cell_type": "code",
   "execution_count": null,
   "metadata": {},
   "outputs": [],
   "source": [
    "\n"
   ]
  },
  {
   "cell_type": "code",
   "execution_count": 11,
   "metadata": {},
   "outputs": [
    {
     "data": {
      "image/png": "[encoded data removed]",
      "text/plain": [
       "<Figure size 1080x360 with 1 Axes>"
      ]
     },
     "metadata": {
      "needs_background": "light"
     },
     "output_type": "display_data"
    }
   ],
   "source": [
    "plt.title(\"p00\")\n",
    "plt.rcParams['figure.figsize'] = [15,5]\n",
    "plt.plot(t,p00,\"--\",label='Rc', color = \"g\")\n",
    "plt.plot(tlist, np.real(P00exp), 'b', linewidth=2, label=\"HEOM\")\n",
    "\n",
    "#plt.plot(tlist, result.expect[0])\n",
    "plt.xlabel(\"time\")\n",
    "plt.legend()\n",
    "plt.show()"
   ]
  },
  {
   "cell_type": "code",
   "execution_count": 7,
   "metadata": {},
   "outputs": [],
   "source": []
  },
  {
   "cell_type": "code",
   "execution_count": null,
   "metadata": {},
   "outputs": [],
   "source": []
  },
  {
   "cell_type": "code",
   "execution_count": 52,
   "metadata": {},
   "outputs": [],
   "source": []
  },
  {
   "cell_type": "code",
   "execution_count": null,
   "metadata": {},
   "outputs": [],
   "source": [
    " "
   ]
  },
  {
   "cell_type": "code",
   "execution_count": 54,
   "metadata": {},
   "outputs": [],
   "source": [
    "\n"
   ]
  },
  {
   "cell_type": "code",
   "execution_count": null,
   "metadata": {},
   "outputs": [],
   "source": []
  },
  {
   "cell_type": "code",
   "execution_count": null,
   "metadata": {},
   "outputs": [],
   "source": []
  },
  {
   "cell_type": "code",
   "execution_count": null,
   "metadata": {},
   "outputs": [],
   "source": []
  },
  {
   "cell_type": "code",
   "execution_count": null,
   "metadata": {},
   "outputs": [],
   "source": []
  },
  {
   "cell_type": "code",
   "execution_count": null,
   "metadata": {},
   "outputs": [],
   "source": []
  }
 ],
 "metadata": {
  "kernelspec": {
   "display_name": "Python 3",
   "language": "python",
   "name": "python3"
  },
  "language_info": {
   "codemirror_mode": {
    "name": "ipython",
    "version": 3
   },
   "file_extension": ".py",
   "mimetype": "text/x-python",
   "name": "python",
   "nbconvert_exporter": "python",
   "pygments_lexer": "ipython3",
   "version": "3.7.6"
  }
 },
 "nbformat": 4,
 "nbformat_minor": 4
}
