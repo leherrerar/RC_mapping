{
 "cells": [
  {
   "cell_type": "code",
   "execution_count": 1,
   "metadata": {},
   "outputs": [
    {
     "name": "stdout",
     "output_type": "stream",
     "text": [
      "Populating the interactive namespace from numpy and matplotlib\n"
     ]
    },
    {
     "name": "stderr",
     "output_type": "stream",
     "text": [
      "D:\\Anaconda\\lib\\site-packages\\IPython\\core\\magics\\pylab.py:160: UserWarning: pylab import has clobbered these variables: ['shape', 'squeeze', 'info', 'identity']\n",
      "`%matplotlib` prevents importing * from pylab and numpy\n",
      "  \"\\n`%matplotlib` prevents importing * from pylab and numpy\"\n"
     ]
    }
   ],
   "source": [
    "import warnings\n",
    "import numpy as np\n",
    "import scipy.sparse as sp\n",
    "from numpy import matrix\n",
    "from numpy import linalg\n",
    "from qutip import *\n",
    "from qutip import spre, spost, sprepost, thermal_dm, mesolve, Options\n",
    "from qutip import tensor, identity, destroy, sigmax, sigmaz, basis, qeye, dims\n",
    "%pylab inline\n"
   ]
  },
  {
   "cell_type": "code",
   "execution_count": 2,
   "metadata": {},
   "outputs": [],
   "source": [
    "Del = 1.0    # The number of qubits in the system.\n",
    "wq = 0.5     # Energy of the 2-level system.\n",
    "Hsys = 0.5 * wq * sigmaz() + 0.5 * Del * sigmax()"
   ]
  },
  {
   "cell_type": "code",
   "execution_count": 3,
   "metadata": {},
   "outputs": [],
   "source": [
    "Q = sigmaz()"
   ]
  },
  {
   "cell_type": "code",
   "execution_count": 4,
   "metadata": {},
   "outputs": [
    {
     "name": "stdout",
     "output_type": "stream",
     "text": [
      "[Quantum object: dims = [[2], [2]], shape = (2, 2), type = oper, isherm = True\n",
      "Qobj data =\n",
      "[[ 0.  0.]\n",
      " [ 0. -1.]]]\n",
      "1.118033988749895\n"
     ]
    }
   ],
   "source": [
    "wc = 0.05                # Cutoff frequency.\n",
    "alpha = 2.5/np.pi        # Coupling strength.\n",
    "N = 30                  # Number of cavity fock states.\n",
    "Temperature = 1/0.95     # Tempertaure.\n",
    "tlist = np.linspace(0, 40, 600)\n",
    "initial_state = basis(2,1) * basis(2,1).dag()                # Initial state of the system.\n",
    "return_vals = [0.5*(sigmaz()-qeye(2))]  # List for which to calculate expectation value \n",
    "\n",
    "print(return_vals)\n",
    "\n",
    "dot_energy, dot_state = Hsys.eigenstates()\n",
    "deltaE = dot_energy[1] - dot_energy[0]\n",
    "print(deltaE)"
   ]
  },
  {
   "cell_type": "code",
   "execution_count": 6,
   "metadata": {},
   "outputs": [
    {
     "name": "stdout",
     "output_type": "stream",
     "text": [
      "6.081280985140722 2.102407407843339\n"
     ]
    }
   ],
   "source": [
    "\n",
    "\n",
    "dot_energy, dot_state = Hsys.eigenstates()\n",
    "deltaE = dot_energy[1] - dot_energy[0]\n",
    "if (Temperature < deltaE/2):\n",
    "    warnings.warn(\"Given Temperature might not provide accurate results\")\n",
    "gamma = deltaE / (2 * np.pi * wc)\n",
    "wa = 2 * np.pi * gamma * wc  # reaction coordinate frequency\n",
    "g = np.sqrt(np.pi * wa * alpha / 2.0)  # reaction coordinate coupling\n",
    "nb = (1 / (np.exp(wa/Temperature) - 1))\n",
    "\n",
    "def nb_0(omega):\n",
    "    return (1 / (np.exp(omega/Temperature) - 1))\n",
    "\n",
    "# Reaction coordinate hamiltonian/operators\n",
    "\n",
    "dimensions = dims(Q)\n",
    "a = tensor(destroy(N), qeye(dimensions[1]))\n",
    "unit = tensor(qeye(N), qeye(dimensions[1]))\n",
    "Nmax = N * dimensions[1][0]\n",
    "Q_exp = tensor(qeye(N), Q)\n",
    "Hsys_exp = tensor(qeye(N), Hsys)\n",
    "e_ops_exp = [tensor(qeye(N), kk) for kk in return_vals]\n",
    "\n",
    "na = a.dag() * a\n",
    "xa = a.dag() + a\n",
    "\n",
    "# decoupled Hamiltonian\n",
    "H0 = wa * a.dag() * a + Hsys_exp\n",
    "# interaction\n",
    "H1 = (g * (a.dag() + a) * Q_exp)\n",
    "H = H0 + H1\n",
    "\n",
    "\n",
    "gamma1=gamma*wa*(1+nb_0(wa))\n",
    "gamma1_bar=gamma*wa*(nb_0(wa))\n",
    "\n",
    "print(gamma1, gamma1_bar)\n",
    "#gamma1= 3.78385\n",
    "#gamma1_bar= 3.19535\n",
    "#L1=tensor(b, identity(2)  )\n",
    "#L2=tensor(b.dag(), identity(2)   )\n",
    "L=[np.sqrt(gamma1) * a, np.sqrt(gamma1_bar)*a.dag() ]\n",
    "\n",
    "rho0 = (tensor(thermal_dm(N, nb), initial_state))\n",
    "output_RC = mesolve(H, rho0, tlist, L, e_ops_exp)\n",
    "\n",
    "\n",
    "all_energy, all_state = H.eigenstates()"
   ]
  },
  {
   "cell_type": "code",
   "execution_count": 7,
   "metadata": {},
   "outputs": [],
   "source": [
    "options = Options(nsteps=15000, store_states=True)        # Options for the solver.\n",
    "\n",
    "output = rcsolve(Hsys, initial_state, tlist, return_vals, Q, wc, alpha, N, \n",
    "                Temperature, options=options)"
   ]
  },
  {
   "cell_type": "code",
   "execution_count": 77,
   "metadata": {},
   "outputs": [
    {
     "name": "stdout",
     "output_type": "stream",
     "text": [
      "Hierarchy Solver Stats\n",
      "======================\n",
      "\n",
      "config\n",
      "------\n",
      "### Timings:\n",
      " - 0:00:00.309658 (97.30% section, 21.05% total)\thierarchy contruct\n",
      " - 0:00:00.000473 (0.15% section, 0.03% total)\tLiouvillian contruct\n",
      " - 0:00:00.318241\tconfig total time\n",
      "### Counts:\n",
      " - 496\tNum hierarchy elements\n",
      " - 1860\tNum he interactions\n",
      "### Messages:\n",
      " - options:\trenormalisation;boundary cutoff approx\n",
      "\n",
      "run\n",
      "---\n",
      "### Timings:\n",
      " - 0:00:00.000141 (0.01% section, 0.01% total)\tinitialize\n",
      " - 0:00:01.152323 (99.99% section, 78.35% total)\tintegrate\n",
      " - 0:00:01.152476\trun total time\n",
      "### Counts:\n",
      "### Messages:\n",
      "\n",
      "Summary\n",
      "-------\n",
      "0:00:01.470718\t solver total time\n"
     ]
    }
   ],
   "source": [
    "from qutip.nonmarkov.heom import HSolverDL\n",
    "\n",
    "# Bath description parameters (for HEOM)\n",
    "temperature = 1.0/0.95 # in units where Boltzmann factor is 1\n",
    "Nk = 2 # number of exponentials in approximation of the the spectral density\n",
    "Ncut = 30 # cut off parameter for the bath\n",
    "\n",
    "eps = 0.5     # Energy of the 2-level system.\n",
    "Del = 1.0    # Tunnelling term\n",
    "Hsys = 0.5*eps*sigmaz() + 0.5*Del* sigmax()\n",
    "\n",
    "# System-bath coupling (Drude-Lorentz spectral density)\n",
    "Q = sigmaz() # coupling operator\n",
    "gam = 0.05 # cut off frequency\n",
    "lam = 2.5/np.pi # coupling strenght\n",
    "\n",
    "# Configure the solver\n",
    "hsolver = HSolverDL(Hsys, Q, lam, temperature, Ncut, Nk, gam, stats=True)\n",
    "\n",
    "# Initial state of the system.\n",
    "rho0 = initial_state* initial_state.dag()   \n",
    "# Times to record state\n",
    "tlist = np.linspace(0, 40, 600)\n",
    "# run the solver\n",
    "result = hsolver.run(rho0, tlist)\n",
    "hsolver.stats.report()\n",
    "\n",
    "# Define some operators with which we will measure the system\n",
    "# 1,1 element of density matrix - corresonding to groundstate\n",
    "P11p=basis(2,0) * basis(2,0).dag()\n",
    "# 1,2 element of density matrix  - corresonding to coherence\n",
    "P12p=basis(2,0) * basis(2,1).dag()\n",
    "# Calculate expectation values in the bases\n",
    "P11exp = expect(result.states, return_vals)\n"
   ]
  },
  {
   "cell_type": "code",
   "execution_count": 78,
   "metadata": {},
   "outputs": [
    {
     "data": {
      "text/plain": [
       "<matplotlib.legend.Legend at 0x16a5a650948>"
      ]
     },
     "execution_count": 78,
     "metadata": {},
     "output_type": "execute_result"
    },
    {
     "data": {
      "image/png": "[encoded data removed]",
      "text/plain": [
       "<Figure size 576x288 with 1 Axes>"
      ]
     },
     "metadata": {
      "needs_background": "light"
     },
     "output_type": "display_data"
    }
   ],
   "source": [
    "fig, axes = subplots(1, 1, sharex=True, figsize=(8,4))\n",
    "axes.plot(tlist, real(output.expect[0]), 'b', linewidth=2, label=\"rc_solve\")\n",
    "axes.plot(tlist, real(output_RC.expect[0]), 'r', linewidth=2, label=\"rc_mine\")\n",
    "axes.plot(tlist, np.real(P11exp), 'y', linewidth=2, label=\"HEOM\")\n",
    "\n",
    "\n",
    "axes.legend(loc=0)"
   ]
  },
  {
   "cell_type": "code",
   "execution_count": null,
   "metadata": {},
   "outputs": [],
   "source": []
  }
 ],
 "metadata": {
  "kernelspec": {
   "display_name": "Python 3",
   "language": "python",
   "name": "python3"
  },
  "language_info": {
   "codemirror_mode": {
    "name": "ipython",
    "version": 3
   },
   "file_extension": ".py",
   "mimetype": "text/x-python",
   "name": "python",
   "nbconvert_exporter": "python",
   "pygments_lexer": "ipython3",
   "version": "3.7.6"
  }
 },
 "nbformat": 4,
 "nbformat_minor": 4
}
