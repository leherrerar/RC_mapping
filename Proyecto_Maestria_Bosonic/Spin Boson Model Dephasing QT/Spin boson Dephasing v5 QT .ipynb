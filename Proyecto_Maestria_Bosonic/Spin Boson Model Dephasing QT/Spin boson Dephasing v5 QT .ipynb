{
 "cells": [
  {
   "cell_type": "code",
   "execution_count": 1,
   "metadata": {},
   "outputs": [],
   "source": [
    "%matplotlib inline\n",
    "import matplotlib.pyplot as plt\n",
    "import numpy as np\n",
    "from qutip import *\n",
    "from numpy import linalg as LA\n",
    "\n",
    "\n",
    "import math\n",
    "from scipy.integrate import quad\n",
    "from scipy.misc import derivative"
   ]
  },
  {
   "cell_type": "markdown",
   "metadata": {},
   "source": [
    "Spin boson model solution (based on Gernot's Example: https://www1.itp.tu-berlin.de/schaller/download/TOQT.pdf page 136)\n",
    "\n",
    "$ H_S= \\frac{\\omega}{2} \\sigma_z + \\frac{\\Delta}{2} \\sigma_x $\n",
    "\n",
    "$ H_B= \\sum_{k} \\omega_k a_k ^{\\dagger} a_k $\n",
    "\n",
    "$ H_I= \\sigma_z \\otimes \\sum t_{k}\\left(a_{k}+a_{k}^{\\dagger}\\right)$\n",
    "\n",
    "Exact solution:  pure-dephasing limit ($\\Delta=0$)\n",
    "\n",
    "$ H_S= \\frac{\\omega}{2} \\sigma_z  $\n",
    "\n",
    "$ H_B= \\sum_{k} \\omega_k a_k ^{\\dagger} a_k $\n",
    "\n",
    "$ H_I= \\sigma_z \\otimes \\sum t_{k}\\left(a_{k}+a_{k}^{\\dagger}\\right)$ \n",
    "\n",
    "The populatios remain unafected since $H_I$ conmustes with $H_S$, but the coherenes decay accroding to(in the interaction picture) : \n",
    "\n",
    "$\\rho_{01}(t)=\\exp \\left\\{-\\frac{4}{\\pi} \\int_{0}^{\\infty} J^{(0)}(\\omega) \\frac{\\sin ^{2}(\\omega t / 2)}{\\omega^{2}} \\operatorname{coth}\\left(\\frac{\\beta \\omega}{2}\\right) d \\omega\\right\\} \\rho_{01}^{0}$\n",
    "\n",
    "\n",
    "We will use this example for spectral densury \n",
    "\n",
    "\n",
    "$J^{(0)}(\\omega)=2 \\pi \\sum_{k}\\left|t_{k}\\right|^{2} \\delta\\left(\\omega-\\omega_{k}\\right)=\\Gamma \\frac{\\omega \\delta^{7}}{\\left[(\\omega-\\epsilon)^{2}+\\delta^{2}\\right]^{2}\\left[(\\omega+\\epsilon)^{2}+\\delta^{2}\\right]^{2}}$\n",
    "\n",
    "with this paremeters:\n",
    "\n",
    "$\\mathbf{\\Gamma} \\beta=10000, \\delta \\beta=\\mathbf{1}, \\boldsymbol{\\epsilon} \\beta=2, \\omega \\beta=1$"
   ]
  },
  {
   "cell_type": "code",
   "execution_count": 2,
   "metadata": {},
   "outputs": [
    {
     "data": {
      "image/png": "[encoded data removed]",
      "text/plain": [
       "<Figure size 432x288 with 1 Axes>"
      ]
     },
     "metadata": {
      "needs_background": "light"
     },
     "output_type": "display_data"
    }
   ],
   "source": [
    "#set 1\n",
    "beta= 1.0\n",
    "Gamma=  10000.0/beta\n",
    "delta= 1.0/beta\n",
    "epsilon = 2.0 /beta \n",
    "omega=1.0/beta\n",
    "\n",
    "#set 2\n",
    "#beta= 1.0\n",
    "#Gamma=  20/beta\n",
    "#delta= 1.0/beta\n",
    "#epsilon = 2.0 /beta \n",
    "#omega=10.0/beta\n",
    "\n",
    "\n",
    "rho_01_init=0.5\n",
    "\n",
    "def J(w):\n",
    "    return Gamma * ((w * delta**7) /(((w-epsilon)**2+delta**2)**2 * ((w+epsilon)**2+delta**2)**2 ))\n",
    "\n",
    "#print (J(0.0))\n",
    "vecfunc = np.vectorize(J)\n",
    "w = np.arange(0.0, 10.0, 0.01)\n",
    "T = vecfunc(w)\n",
    "plt.plot (w, T)\n",
    "plt.show()"
   ]
  },
  {
   "cell_type": "code",
   "execution_count": 3,
   "metadata": {},
   "outputs": [
    {
     "data": {
      "image/png": "[encoded data removed]",
      "text/plain": [
       "<Figure size 432x288 with 1 Axes>"
      ]
     },
     "metadata": {
      "needs_background": "light"
     },
     "output_type": "display_data"
    }
   ],
   "source": [
    "\n",
    "\n",
    "def integrand(w, t):\n",
    "    return J(w)* (np.sin(w*t/2))**2 / (w**2)  / np.tanh (beta*w /2 )\n",
    "\n",
    "\n",
    "def expint(t):\n",
    "    return quad(integrand, 0, np.inf, args=(t))[0]\n",
    "\n",
    "\n",
    "def rho_01(t):\n",
    "    return np.exp(-4.0/np.pi * expint(t) ) * rho_01_init\n",
    "\n",
    "vecfunc = np.vectorize(rho_01)\n",
    "t1 = np.arange(0.0, 1.0, 0.01)\n",
    "T1 = vecfunc(t1)\n",
    "plt.plot (t1, T1)\n",
    "plt.show()"
   ]
  },
  {
   "cell_type": "markdown",
   "metadata": {},
   "source": [
    "Now we apply the reaccion coodinate mapping :\n",
    "\n",
    "$  H_0= \\frac{\\omega}{2} \\sigma_z +  \\Omega_0 b ^{\\dagger} b +g \\sigma_z  \\left( b + b ^{\\dagger} \\right) + \\frac{g^2}{\\Omega} \\sigma_z^2 + \\Omega \\Delta_{RC} \\left( b + b ^{\\dagger} \\right)^2$\n",
    "\n",
    "$   H_B= \\sum_{k} \\Omega_k b_k ^{\\dagger} b_k $\n",
    "\n",
    "$   H_I= \\left( b + b ^{\\dagger} \\right) \\sum_k h_k \\left( b_k + b_k ^{\\dagger} \\right)$\n",
    "\n",
    "where the energy of the RC and the coupling strength become:\n",
    "\n",
    "$\\Omega_{0}^{2}=\\frac{\\left(\\delta^{2}+\\epsilon^{2}\\right)^{2}}{5 \\delta^{2}+\\epsilon^{2}}, \\quad g^{2}=\\frac{\\Gamma \\delta^{4} \\sqrt{5 \\delta^{2}+\\epsilon^{2}}}{64\\left(\\delta^{2}+\\epsilon^{2}\\right)^{2}}\n",
    "$\n",
    "\n",
    "\n",
    "The mapping transformation can be computed explicitly, where the transformed spectral density becomes ohmic:\n",
    "\n",
    "$ J^{(1)}(\\omega)=\\frac{16 \\omega \\delta^{3} \\sqrt{5 \\delta^{2}+\\epsilon^{2}}}{\\omega^{4}+\\omega^{2}\\left(6 \\delta^{2}-2 \\epsilon^{2}\\right)+\\left(5 \\delta^{2}+\\epsilon^{2}\\right)^{2}} $\n",
    "\n",
    "\n",
    "And the renormalization energy as $\\Delta_{RC}$: \n",
    "\n",
    "$\\Omega_{0} \\cdot \\Delta_{RC} \\equiv \\sum_{k} \\frac{h_{k}^{2}}{\\Omega_{k}}=\\frac{1}{2 \\pi} \\int_{0}^{\\infty} \\frac{J^{(1)}(\\omega)}{\\omega} d \\omega$\n",
    "\n"
   ]
  },
  {
   "cell_type": "code",
   "execution_count": 4,
   "metadata": {},
   "outputs": [
    {
     "name": "stdout",
     "output_type": "stream",
     "text": [
      "1.6666666666666667\n"
     ]
    },
    {
     "data": {
      "image/png": "[encoded data removed]",
      "text/plain": [
       "<Figure size 432x288 with 1 Axes>"
      ]
     },
     "metadata": {
      "needs_background": "light"
     },
     "output_type": "display_data"
    },
    {
     "name": "stdout",
     "output_type": "stream",
     "text": [
      "1.6666666666666667 4.330127018922194 0.2\n"
     ]
    }
   ],
   "source": [
    "##We build the supersystem Hamiltonian with N_RC number of modes for the RC\n",
    "\n",
    "N_RC = 20 # number of basis states to consider\n",
    "b = destroy(N_RC)\n",
    "\n",
    "Omega_Rc=np.sqrt( (delta**2+ epsilon**2 )**2/(5*delta**2+ epsilon**2))\n",
    "g=np.sqrt( (Gamma*delta**4*np.sqrt(5*delta**2+ epsilon**2))/(64*(delta**2+epsilon**2)**2)  )\n",
    "print(Omega_Rc)\n",
    "\n",
    "def J_1(w):\n",
    "    return (16*w*delta**3*np.sqrt(5*delta**2+ epsilon**2))/(w**4+w**2*(6*delta**2-2*epsilon**2)+ (5*delta**2+epsilon**2)**2)\n",
    "\n",
    "vecfunc = np.vectorize(J_1)\n",
    "w = np.arange(0.0, 10.0, 0.01)\n",
    "T = vecfunc(w)\n",
    "plt.plot (w, T)\n",
    "plt.show()\n",
    "\n",
    "def integrand(w):\n",
    "    return  J_1(w)/w\n",
    "\n",
    "Delta_Rc = (1/(2*np.pi*Omega_Rc))* quad(integrand, 0, np.inf)[0]\n",
    "Delta_Rc2=0\n",
    "print(Omega_Rc,g,Delta_Rc)\n",
    "\n",
    "H0= omega/2 *tensor(sigmaz(), identity(N_RC) )  + Omega_Rc *tensor(identity(2) , b.dag() * b )  # + g* tensor(sigmaz(),  b.dag() + b ) #+ Omega_Rc*Delta_Rc2 *tensor(identity(2) , (b.dag() + b)*(b.dag() + b) )  \n",
    "\n"
   ]
  },
  {
   "cell_type": "markdown",
   "metadata": {},
   "source": [
    "In order to aplly the master equation we need to preapre the initial state as: \n",
    "\n",
    "$\\rho_{0}=\\rho_{S}^{0} \\otimes \\frac{e^{-\\beta \\Omega\\left[b^{\\dagger} b\\right]}}{Z_{R C}}$"
   ]
  },
  {
   "cell_type": "code",
   "execution_count": 5,
   "metadata": {},
   "outputs": [
    {
     "name": "stdout",
     "output_type": "stream",
     "text": [
      "Quantum object: dims = [[2], [2]], shape = (2, 2), type = oper, isherm = True\n",
      "Qobj data =\n",
      "[[0.5 0.5]\n",
      " [0.5 0.5]]\n"
     ]
    }
   ],
   "source": [
    "##Rc inicial state Thermal  \n",
    "\n",
    "\n",
    "H1 = b.dag() * b\n",
    "H2 = Delta_Rc2*(b.dag()+ b)*(b.dag()+ b)  ##Auxliar Hamiltonians\n",
    "H_Rc= -beta*Omega_Rc*(H1+H2)\n",
    "Exp= H_Rc.expm()\n",
    "Z_Rc=Exp.tr()\n",
    "rho_Rc_init=Exp/Z_Rc\n",
    "\n",
    "#print(rho_Rc_init)\n",
    "\n",
    "#Sistem inital state\n",
    "psi0 = (1/np.sqrt(2.)) * (basis(2, 0) + basis(2, 1) )\n",
    "#psi0 =  basis(2, 0) \n",
    "\n",
    "##Spin Inicial state \n",
    "rho_Spin= psi0*psi0.dag()\n",
    "#print(rho_Spin)\n",
    "\n",
    "###Tensor producto of the initial state\n",
    "rho_init=tensor(rho_Spin,rho_Rc_init) \n",
    "\n",
    "print(rho_init.ptrace(0))"
   ]
  },
  {
   "cell_type": "markdown",
   "metadata": {},
   "source": [
    "The evolutions is given by the master equation (in the interaction picture):\n",
    "\n",
    "$\\dot{\\boldsymbol{\\rho}}_{0}(t)=\\gamma' \\left(b \\boldsymbol{\\rho}_{0}(t) b^{\\dagger}-\\frac{1}{2}\\left\\{b^{\\dagger} b, \\boldsymbol{\\rho}_{0}(t)\\right\\}\\right)+\\bar{\\gamma}' \\left(b^{\\dagger} \\boldsymbol{\\rho}_{0}(t) b-\\frac{1}{2}\\left\\{b b^{\\dagger}, \\boldsymbol{\\rho}_{0}(t)\\right\\}\\right)-\\mathrm{i}\\left[\\frac{\\sigma}{2} b^{\\dagger} b+\\frac{\\bar{\\sigma}}{2} b b^{\\dagger}, \\boldsymbol{\\rho}_{0}(t)\\right]$\n",
    "\n",
    "\n",
    "where $\\gamma'=J(\\Omega)\\left[1+n_{B}(\\Omega)\\right]$ , $ \\bar{\\gamma}' = J(\\Omega) n_{B}(\\Omega)$ and $n_{B}(\\omega)=\\left[e^{\\beta \\omega}-1\\right]^{-1}$\n",
    "\n",
    "and \n",
    "$\\sigma =\\sigma(\\Omega)=\\frac{\\mathrm{i}}{\\pi} \\mathcal{P} \\int_{-\\infty}^{+\\infty} \\frac{\\gamma(\\Omega')}{\\Omega-\\Omega'} d \\Omega'$"
   ]
  },
  {
   "cell_type": "code",
   "execution_count": 6,
   "metadata": {},
   "outputs": [
    {
     "name": "stdout",
     "output_type": "stream",
     "text": [
      "1.186002113574108 0.22400686416793208 1.186002113574108 0.5925925441538583\n",
      "0.592592\n"
     ]
    }
   ],
   "source": [
    "def nb(w):\n",
    "    return 1/(np.exp(beta*w)-1)\n",
    "\n",
    "def gamma_prime(w):\n",
    "    if w==0:\n",
    "        return 0.592592\n",
    "    else:\n",
    "        return J_1(w)*(1+nb(w))\n",
    "\n",
    "gamma_prime_n= J_1(Omega_Rc)*(1+nb(Omega_Rc))\n",
    "gamma_bar_prime_n= J_1(Omega_Rc)*nb(Omega_Rc)\n",
    "gamma_0=J_1(0.000000001)*(1+nb(0.000000001))\n",
    "\n",
    "print(gamma_prime_n,gamma_bar_prime_n , gamma_prime(Omega_Rc), gamma_0)\n",
    "print(gamma_prime(0.0))"
   ]
  },
  {
   "cell_type": "code",
   "execution_count": 7,
   "metadata": {},
   "outputs": [],
   "source": [
    "#from sympy import oo\n",
    "#from sympy.integrals.integrals import Integral\n",
    "#from sympy.abc import x\n",
    "\n",
    "#Calculate the lamb Shift \n",
    "#Integral(gamma_prime(x)/(Omega_Rc-x), (x, -oo, oo)).principal_value()\n",
    "\n",
    "aux1= gamma_prime_n/2.0 * tensor(identity(2) ,   b.dag()*b)\n",
    "aux2= gamma_bar_prime_n/2.0 * tensor(identity(2) ,  b * b.dag())\n",
    "aux3= g/Omega_Rc* ( gamma_prime_n/2.0 + gamma_bar_prime_n/2.0)*tensor(sigmaz() ,  b )\n",
    "aux4= g/Omega_Rc* ( gamma_prime_n/2.0 + gamma_bar_prime_n/2.0)*tensor(sigmaz() ,  b.dag() )\n",
    "\n",
    "Lamb=aux1+aux2+aux3+aux4"
   ]
  },
  {
   "cell_type": "markdown",
   "metadata": {},
   "source": [
    "The decays follow the matrix \n",
    "\n",
    "$h= \\left(\\begin{array}{ccc}\\gamma & 0 & \\frac{g \\gamma}{\\Omega} \\\\ 0 & \\bar{\\gamma} & \\frac{g \\bar{\\gamma}}{\\Omega} \\\\ \\frac{g \\gamma}{\\Omega} & \\frac{g \\bar{\\gamma}}{\\Omega} & \\frac{g^{2}(\\bar{\\gamma}+\\gamma)}{\\Omega^{2}}\\end{array}\\right)$\n",
    "\n",
    "We define the new Limbland opetaros and decays as :\n",
    "\n",
    "$u^{\\dagger} h u=\\left[\\begin{array}{cccc}\\gamma_{1} & 0 & \\cdots & 0 \\\\ 0 & \\gamma_{2} & \\cdots & 0 \\\\ \\vdots & \\vdots & \\ddots & \\vdots \\\\ 0 & 0 & \\cdots & \\gamma_{N^{2}}\\end{array}\\right]$\n",
    "\n",
    "and: \n",
    "$L_{i}=\\sum_{j=1}^{N^{2}-1} u_{j i} A_{j}$ i.e $L = U ^{-1} A$ and the vector $A=( b, b ^{\\dagger} , \\sigma_z)$"
   ]
  },
  {
   "cell_type": "code",
   "execution_count": 8,
   "metadata": {},
   "outputs": [
    {
     "name": "stdout",
     "output_type": "stream",
     "text": [
      "[[1.18600211 0.         3.08132388]\n",
      " [0.         0.22400686 0.5819869 ]\n",
      " [3.08132388 0.5819869  9.5175606 ]]\n",
      "[ 1.05628721e+01 -2.92149885e-16  3.64697487e-01]\n",
      "[[ 0.31174005 -0.68228824  0.6612873 ]\n",
      " [ 0.0534015  -0.68228824 -0.72913033]\n",
      " [ 0.9486656   0.26261287 -0.17626135]]\n",
      "[[ 0.31174006  0.05340151  0.9486656 ]\n",
      " [-0.68228824 -0.68228824  0.26261286]\n",
      " [ 0.6612873  -0.72913033 -0.17626135]]\n"
     ]
    }
   ],
   "source": [
    "# import sympy \n",
    "#M = Matrix([[gamma_prime_n, 0, gamma_prime_n*g/Omega_Rc], [0, gamma_bar_prime_n, g*gamma_bar_prime_n/Omega_Rc], [g*gamma_prime_n/Omega_Rc, g*gamma_bar_prime_n/Omega_Rc, g**2*(gamma_prime_n+gamma_bar_prime_n)/Omega_Rc**2]]) \n",
    "\n",
    "#test=np.array([[1., 2.], [3., 4.]])\n",
    "MP = np.array([[gamma_prime_n, 0, gamma_prime_n*g/Omega_Rc], [0, gamma_bar_prime_n, g*gamma_bar_prime_n/Omega_Rc], [g*gamma_prime_n/Omega_Rc, g*gamma_bar_prime_n/Omega_Rc, g**2*(gamma_prime_n+gamma_bar_prime_n)/Omega_Rc**2]])\n",
    "\n",
    "#w, v = LA.eig(test)\n",
    "#print(w)\n",
    "#print(v)\n",
    "\n",
    "print(MP)\n",
    "\n",
    "w, v = LA.eig(MP)\n",
    "print(w)\n",
    "#print(v)\n",
    "\n",
    "U=np.array([[0.31174005, -0.68228824,  0.6612873 ],[0.0534015,-0.68228824,-0.72913033],[0.9486656,0.26261287,-0.17626135]])\n",
    "\n",
    "U_1=LA.inv(U)\n",
    "\n",
    "print(U)\n",
    "print(U_1)\n"
   ]
  },
  {
   "cell_type": "code",
   "execution_count": 9,
   "metadata": {},
   "outputs": [
    {
     "name": "stdout",
     "output_type": "stream",
     "text": [
      "-2.921498845353455e-16\n"
     ]
    }
   ],
   "source": [
    "A1=tensor(identity(2) ,  b )\n",
    "A2=tensor(identity(2) , b.dag()  )\n",
    "A3=tensor( sigmaz(), identity(N_RC)  )\n",
    "\n",
    "print(w[1])\n",
    "L1=U[0][0]*A1+U[1][0]*A2+U[2][0]*A3\n",
    "L2=U[0][1]*A1+U[1][1]*A2+U[2][1]*A3\n",
    "L3=U[0][2]*A1+U[1][2]*A2+U[2][2]*A3\n",
    "\n",
    "gamma1=w[0]\n",
    "gamma2=0.0 #w[1]\n",
    "gamma3=w[2]\n",
    "\n",
    "L=[np.sqrt(gamma1) * L1, np.sqrt(gamma2)*L2,  np.sqrt(gamma3)*L3]\n",
    "\n",
    "L0=[np.sqrt(gamma_prime_n) * (A1), np.sqrt(gamma_bar_prime_n)*(A2)  ]"
   ]
  },
  {
   "cell_type": "markdown",
   "metadata": {},
   "source": [
    "We find the the coherences as:\n",
    "\n",
    "$\\left|\\rho_{01}\\right|=\\mid \\frac{1}{2} \\operatorname{Tr}\\left\\{\\left(\\sigma^{x}+\\mathrm{i} \\sigma^{y}\\right) \\rho(t)\\right\\}$"
   ]
  },
  {
   "cell_type": "code",
   "execution_count": 10,
   "metadata": {},
   "outputs": [
    {
     "name": "stdout",
     "output_type": "stream",
     "text": [
      "Quantum object: dims = [[2], [2]], shape = (2, 2), type = oper, isherm = True\n",
      "Qobj data =\n",
      "[[0.5 0.5]\n",
      " [0.5 0.5]]\n",
      "0.002\n"
     ]
    }
   ],
   "source": [
    "t0 = 0.0\n",
    "tf = 1.0\n",
    "time_steps = 500\n",
    "dt= (tf-t0)/time_steps\n",
    "#Hlamb=-g**2/Omega_Rc * (tensor(identity(2) ,  b.dag()*b )  + tensor(identity(2) ,  b*b.dag() ) )\n",
    "Hg=g* tensor(sigmaz(),  b.dag() + b )\n",
    "## Time range\n",
    "t3 = np.linspace(0, tf, time_steps)\n",
    "\n",
    "result = mesolve(Hg , rho_init, t3, L0)\n",
    "#result = mesolve( 0*H0, rho_init, t3, L0)\n",
    "\n",
    "\n",
    "states_IP=result.states\n",
    "exp_result=[0 for i in range(len(states_IP))]\n",
    "\n",
    "trace=[0 for i in range(len(states_IP))]\n",
    "\n",
    "for i in range(len(states_IP)):\n",
    "    exp_result[i]=  (-1j*H0*t3[i]).expm()* states_IP[i]*  (1j*H0*t3[i]).expm()\n",
    "    #trace[i]=  states_IP[i].ptrace(0)\n",
    "    trace[i]=  exp_result[i].ptrace(0)\n",
    "\n",
    "print(trace[0])    \n",
    "\n",
    "\n",
    "p01=[0 for i in range(len(states_IP))]\n",
    "for i in range(len(states_IP)):\n",
    "    p01[i]=abs(expect(0.5*(sigmax()+1j*sigmay()),trace[i]))\n",
    "\n",
    "print(dt)  "
   ]
  },
  {
   "cell_type": "markdown",
   "metadata": {},
   "source": [
    "Now we evolve with the following equation in order to compare: \n",
    "\n",
    "$\\begin{aligned} \\dot{\\rho}=-& \\mathrm{i}\\left[H_{S}^{\\prime}, \\rho\\right]-\\int_{0}^{\\infty} C(+\\tau)\\left[\\left(b+b^{\\dagger}\\right), e^{-\\mathrm{i} H_{S}^{\\prime} \\tau}\\left(b+b^{\\dagger}\\right) e^{+\\mathrm{i} H_{S}^{\\prime} \\tau} \\rho(t)\\right] d \\tau \\\\ &-\\int_{0}^{\\infty} C(-\\tau)\\left[\\rho(t) e^{-\\mathrm{i} H_{S}^{\\prime} \\tau}\\left(b+b^{\\dagger}\\right) e^{+i H_{S}^{\\prime} \\tau},\\left(b+b^{\\dagger}\\right)\\right] d \\tau \\end{aligned}$\n",
    "\n",
    "where we need to find the supersystem Hamitionial states $H_{S}^{\\prime}\\left|a^{\\prime}\\right\\rangle=E_{a}^{\\prime}\\left|a^{\\prime}\\right\\rangle$, we can find:  \n",
    "\n",
    "$\\int_{0}^{\\infty} C(\\tau) e^{-\\mathrm{i} H_{S}^{\\prime} \\tau}\\left(b+b^{\\dagger}\\right) e^{+\\mathrm{i} H_{S}^{\\prime} \\tau} d \\tau=\\sum_{a b}\\left\\langle a^{\\prime}\\left|\\left(b+b^{\\dagger}\\right)\\right| b^{\\prime}\\right\\rangle \\int_{0}^{\\infty} C(\\tau) e^{-\\mathrm{i}\\left(E_{a}^{\\prime}-E_{b}^{\\prime}\\right) \\tau} d \\tau\\left|a^{\\prime}\\right\\rangle\\left\\langle b^{\\prime}\\right|$\n",
    "\n",
    "where: \n",
    "\n",
    "$\\int_{0}^{\\infty} C(\\tau) e^{+\\mathrm{i}\\left(E_{b}^{\\prime}-E_{a}^{\\prime}\\right) \\tau} d \\tau =\\frac{\\gamma\\left(E_{b}^{\\prime}-E_{a}^{\\prime}\\right)}{2}+\\frac{\\mathrm{i}}{2 \\pi} \\mathcal{P} \\int \\frac{\\gamma(\\omega)}{E_{b}^{\\prime}-E_{a}^{\\prime}-\\omega} d \\omega$ \n",
    "\n",
    "where we will negecled the principal value term (lamb Shift) and $\\gamma(\\omega)=J(\\omega)\\left[1+n_{B}(\\omega)\\right]$"
   ]
  },
  {
   "cell_type": "code",
   "execution_count": 11,
   "metadata": {},
   "outputs": [
    {
     "name": "stdout",
     "output_type": "stream",
     "text": [
      "Quantum object: dims = [[2, 20], [2, 20]], shape = (40, 40), type = oper, isherm = False\n",
      "Qobj data =\n",
      "[[0.59300106 0.         0.15839677 ... 0.         0.         0.        ]\n",
      " [0.         1.29800555 0.         ... 0.         0.         0.        ]\n",
      " [0.83863014 0.         2.00301003 ... 0.         0.         0.        ]\n",
      " ...\n",
      " [0.         0.         0.         ... 0.         0.         0.        ]\n",
      " [0.         0.         0.         ... 0.         0.         0.        ]\n",
      " [0.         0.         0.         ... 0.         0.         0.        ]]\n"
     ]
    }
   ],
   "source": [
    "def nb(w):\n",
    "    return 1/(np.exp(beta*w)-1)\n",
    "\n",
    "def gamma(w):\n",
    "    if (w==0):\n",
    "        return 0.592592\n",
    "    else:  \n",
    "        return J_1(w)*(1+nb(w))\n",
    "\n",
    "  \n",
    "  \n",
    "\n",
    "all_energy, all_state = H0.eigenstates(sparse=sparse)\n",
    "\n",
    "Nmax=N_RC*2\n",
    "Limb_op1=0\n",
    "Limb_op2=0\n",
    "Apre = spre((b + b.dag()))\n",
    "Apost = spost(b + b.dag())\n",
    "for j in range(Nmax):\n",
    "    for k in range(Nmax):\n",
    "        A = (b + b.dag()).matrix_element(all_state[j].dag(), all_state[k])\n",
    "        delE = (all_energy[j] - all_energy[k])\n",
    "        X1=gamma(delE)/2\n",
    "        X2=gamma(-delE)/2\n",
    "        Limb_op1 = Limb_op1 + A*X1*all_state[j] * all_state[k].dag() \n",
    "        Limb_op2 = Limb_op2 + A*X2*all_state[j] * all_state[k].dag()\n",
    "B=tensor(identity(2),b+ b.dag())\n",
    "print(B*Limb_op1)\n",
    "\n",
    "\n",
    "t0 = 0.0\n",
    "tf = 1.0\n",
    "time_steps = 500\n",
    "\n",
    "\n",
    "L2= -spre(B* Limb_op1)+ sprepost(Limb_op1, B)-  spost(Limb_op2*B) +  sprepost( B, Limb_op2)\n",
    "## Time range\n",
    "t = np.linspace(0, tf, time_steps)\n",
    "\n",
    "\n",
    "psi0 =  basis(2, 0)  \n",
    "rho_Spin= psi0*psi0.dag()\n",
    "rho_init_2=tensor(rho_Spin,rho_Rc_init)\n",
    "\n",
    "output_2 = mesolve(H0, rho_init, t, [L2])"
   ]
  },
  {
   "cell_type": "code",
   "execution_count": 12,
   "metadata": {},
   "outputs": [
    {
     "name": "stdout",
     "output_type": "stream",
     "text": [
      "Quantum object: dims = [[2], [2]], shape = (2, 2), type = oper, isherm = True\n",
      "Qobj data =\n",
      "[[0.5 0.5]\n",
      " [0.5 0.5]]\n",
      "0.4999999999999998\n"
     ]
    }
   ],
   "source": [
    "states_IP_2=output_2.states\n",
    "\n",
    "\n",
    "trace_2=[0 for i in range(len(states_IP_2))]\n",
    "for i in range(len(states_IP_2)):\n",
    "    trace_2[i]=  states_IP_2[i].ptrace(0)\n",
    "\n",
    "print(trace_2[0])    \n",
    "\n",
    "\n",
    "p01_2=[0 for i in range(len(states_IP_2))]\n",
    "for i in range(len(states_IP_2)):\n",
    "    p01_2[i]=abs(expect(0.5*(sigmax()+1j*sigmay()),trace_2[i]))\n",
    "    \n",
    "print(p01_2[0])"
   ]
  },
  {
   "cell_type": "code",
   "execution_count": 13,
   "metadata": {},
   "outputs": [
    {
     "name": "stdout",
     "output_type": "stream",
     "text": [
      "Quantum object: dims = [[20], [20]], shape = (20, 20), type = oper, isherm = True\n",
      "Qobj data =\n",
      "[[8.11124397e-01 0.00000000e+00 0.00000000e+00 0.00000000e+00\n",
      "  0.00000000e+00 0.00000000e+00 0.00000000e+00 0.00000000e+00\n",
      "  0.00000000e+00 0.00000000e+00 0.00000000e+00 0.00000000e+00\n",
      "  0.00000000e+00 0.00000000e+00 0.00000000e+00 0.00000000e+00\n",
      "  0.00000000e+00 0.00000000e+00 0.00000000e+00 0.00000000e+00]\n",
      " [0.00000000e+00 1.53201609e-01 0.00000000e+00 0.00000000e+00\n",
      "  0.00000000e+00 0.00000000e+00 0.00000000e+00 0.00000000e+00\n",
      "  0.00000000e+00 0.00000000e+00 0.00000000e+00 0.00000000e+00\n",
      "  0.00000000e+00 0.00000000e+00 0.00000000e+00 0.00000000e+00\n",
      "  0.00000000e+00 0.00000000e+00 0.00000000e+00 0.00000000e+00]\n",
      " [0.00000000e+00 0.00000000e+00 2.89360463e-02 0.00000000e+00\n",
      "  0.00000000e+00 0.00000000e+00 0.00000000e+00 0.00000000e+00\n",
      "  0.00000000e+00 0.00000000e+00 0.00000000e+00 0.00000000e+00\n",
      "  0.00000000e+00 0.00000000e+00 0.00000000e+00 0.00000000e+00\n",
      "  0.00000000e+00 0.00000000e+00 0.00000000e+00 0.00000000e+00]\n",
      " [0.00000000e+00 0.00000000e+00 0.00000000e+00 5.46531320e-03\n",
      "  0.00000000e+00 0.00000000e+00 0.00000000e+00 0.00000000e+00\n",
      "  0.00000000e+00 0.00000000e+00 0.00000000e+00 0.00000000e+00\n",
      "  0.00000000e+00 0.00000000e+00 0.00000000e+00 0.00000000e+00\n",
      "  0.00000000e+00 0.00000000e+00 0.00000000e+00 0.00000000e+00]\n",
      " [0.00000000e+00 0.00000000e+00 0.00000000e+00 0.00000000e+00\n",
      "  1.03226432e-03 0.00000000e+00 0.00000000e+00 0.00000000e+00\n",
      "  0.00000000e+00 0.00000000e+00 0.00000000e+00 0.00000000e+00\n",
      "  0.00000000e+00 0.00000000e+00 0.00000000e+00 0.00000000e+00\n",
      "  0.00000000e+00 0.00000000e+00 0.00000000e+00 0.00000000e+00]\n",
      " [0.00000000e+00 0.00000000e+00 0.00000000e+00 0.00000000e+00\n",
      "  0.00000000e+00 1.94969547e-04 0.00000000e+00 0.00000000e+00\n",
      "  0.00000000e+00 0.00000000e+00 0.00000000e+00 0.00000000e+00\n",
      "  0.00000000e+00 0.00000000e+00 0.00000000e+00 0.00000000e+00\n",
      "  0.00000000e+00 0.00000000e+00 0.00000000e+00 0.00000000e+00]\n",
      " [0.00000000e+00 0.00000000e+00 0.00000000e+00 0.00000000e+00\n",
      "  0.00000000e+00 0.00000000e+00 3.68249907e-05 0.00000000e+00\n",
      "  0.00000000e+00 0.00000000e+00 0.00000000e+00 0.00000000e+00\n",
      "  0.00000000e+00 0.00000000e+00 0.00000000e+00 0.00000000e+00\n",
      "  0.00000000e+00 0.00000000e+00 0.00000000e+00 0.00000000e+00]\n",
      " [0.00000000e+00 0.00000000e+00 0.00000000e+00 0.00000000e+00\n",
      "  0.00000000e+00 0.00000000e+00 0.00000000e+00 6.95534231e-06\n",
      "  0.00000000e+00 0.00000000e+00 0.00000000e+00 0.00000000e+00\n",
      "  0.00000000e+00 0.00000000e+00 0.00000000e+00 0.00000000e+00\n",
      "  0.00000000e+00 0.00000000e+00 0.00000000e+00 0.00000000e+00]\n",
      " [0.00000000e+00 0.00000000e+00 0.00000000e+00 0.00000000e+00\n",
      "  0.00000000e+00 0.00000000e+00 0.00000000e+00 0.00000000e+00\n",
      "  1.31369447e-06 0.00000000e+00 0.00000000e+00 0.00000000e+00\n",
      "  0.00000000e+00 0.00000000e+00 0.00000000e+00 0.00000000e+00\n",
      "  0.00000000e+00 0.00000000e+00 0.00000000e+00 0.00000000e+00]\n",
      " [0.00000000e+00 0.00000000e+00 0.00000000e+00 0.00000000e+00\n",
      "  0.00000000e+00 0.00000000e+00 0.00000000e+00 0.00000000e+00\n",
      "  0.00000000e+00 2.48124835e-07 0.00000000e+00 0.00000000e+00\n",
      "  0.00000000e+00 0.00000000e+00 0.00000000e+00 0.00000000e+00\n",
      "  0.00000000e+00 0.00000000e+00 0.00000000e+00 0.00000000e+00]\n",
      " [0.00000000e+00 0.00000000e+00 0.00000000e+00 0.00000000e+00\n",
      "  0.00000000e+00 0.00000000e+00 0.00000000e+00 0.00000000e+00\n",
      "  0.00000000e+00 0.00000000e+00 4.68647278e-08 0.00000000e+00\n",
      "  0.00000000e+00 0.00000000e+00 0.00000000e+00 0.00000000e+00\n",
      "  0.00000000e+00 0.00000000e+00 0.00000000e+00 0.00000000e+00]\n",
      " [0.00000000e+00 0.00000000e+00 0.00000000e+00 0.00000000e+00\n",
      "  0.00000000e+00 0.00000000e+00 0.00000000e+00 0.00000000e+00\n",
      "  0.00000000e+00 0.00000000e+00 0.00000000e+00 8.85160372e-09\n",
      "  0.00000000e+00 0.00000000e+00 0.00000000e+00 0.00000000e+00\n",
      "  0.00000000e+00 0.00000000e+00 0.00000000e+00 0.00000000e+00]\n",
      " [0.00000000e+00 0.00000000e+00 0.00000000e+00 0.00000000e+00\n",
      "  0.00000000e+00 0.00000000e+00 0.00000000e+00 0.00000000e+00\n",
      "  0.00000000e+00 0.00000000e+00 0.00000000e+00 0.00000000e+00\n",
      "  1.67185199e-09 0.00000000e+00 0.00000000e+00 0.00000000e+00\n",
      "  0.00000000e+00 0.00000000e+00 0.00000000e+00 0.00000000e+00]\n",
      " [0.00000000e+00 0.00000000e+00 0.00000000e+00 0.00000000e+00\n",
      "  0.00000000e+00 0.00000000e+00 0.00000000e+00 0.00000000e+00\n",
      "  0.00000000e+00 0.00000000e+00 0.00000000e+00 0.00000000e+00\n",
      "  0.00000000e+00 3.15772052e-10 0.00000000e+00 0.00000000e+00\n",
      "  0.00000000e+00 0.00000000e+00 0.00000000e+00 0.00000000e+00]\n",
      " [0.00000000e+00 0.00000000e+00 0.00000000e+00 0.00000000e+00\n",
      "  0.00000000e+00 0.00000000e+00 0.00000000e+00 0.00000000e+00\n",
      "  0.00000000e+00 0.00000000e+00 0.00000000e+00 0.00000000e+00\n",
      "  0.00000000e+00 0.00000000e+00 5.96416367e-11 0.00000000e+00\n",
      "  0.00000000e+00 0.00000000e+00 0.00000000e+00 0.00000000e+00]\n",
      " [0.00000000e+00 0.00000000e+00 0.00000000e+00 0.00000000e+00\n",
      "  0.00000000e+00 0.00000000e+00 0.00000000e+00 0.00000000e+00\n",
      "  0.00000000e+00 0.00000000e+00 0.00000000e+00 0.00000000e+00\n",
      "  0.00000000e+00 0.00000000e+00 0.00000000e+00 1.12648501e-11\n",
      "  0.00000000e+00 0.00000000e+00 0.00000000e+00 0.00000000e+00]\n",
      " [0.00000000e+00 0.00000000e+00 0.00000000e+00 0.00000000e+00\n",
      "  0.00000000e+00 0.00000000e+00 0.00000000e+00 0.00000000e+00\n",
      "  0.00000000e+00 0.00000000e+00 0.00000000e+00 0.00000000e+00\n",
      "  0.00000000e+00 0.00000000e+00 0.00000000e+00 0.00000000e+00\n",
      "  2.12765535e-12 0.00000000e+00 0.00000000e+00 0.00000000e+00]\n",
      " [0.00000000e+00 0.00000000e+00 0.00000000e+00 0.00000000e+00\n",
      "  0.00000000e+00 0.00000000e+00 0.00000000e+00 0.00000000e+00\n",
      "  0.00000000e+00 0.00000000e+00 0.00000000e+00 0.00000000e+00\n",
      "  0.00000000e+00 0.00000000e+00 0.00000000e+00 0.00000000e+00\n",
      "  0.00000000e+00 0.00000000e+00 0.00000000e+00 0.00000000e+00]\n",
      " [0.00000000e+00 0.00000000e+00 0.00000000e+00 0.00000000e+00\n",
      "  0.00000000e+00 0.00000000e+00 0.00000000e+00 0.00000000e+00\n",
      "  0.00000000e+00 0.00000000e+00 0.00000000e+00 0.00000000e+00\n",
      "  0.00000000e+00 0.00000000e+00 0.00000000e+00 0.00000000e+00\n",
      "  0.00000000e+00 0.00000000e+00 0.00000000e+00 0.00000000e+00]\n",
      " [0.00000000e+00 0.00000000e+00 0.00000000e+00 0.00000000e+00\n",
      "  0.00000000e+00 0.00000000e+00 0.00000000e+00 0.00000000e+00\n",
      "  0.00000000e+00 0.00000000e+00 0.00000000e+00 0.00000000e+00\n",
      "  0.00000000e+00 0.00000000e+00 0.00000000e+00 0.00000000e+00\n",
      "  0.00000000e+00 0.00000000e+00 0.00000000e+00 0.00000000e+00]]\n"
     ]
    }
   ],
   "source": [
    "rho_RC=[0 for i in range(len(states_IP_2))]\n",
    "\n",
    "\n",
    "for i in range(len(states_IP_2)):\n",
    "    rho_RC[i]=  exp_result[i].ptrace(1)\n",
    "\n",
    "print(rho_RC[0])  "
   ]
  },
  {
   "cell_type": "code",
   "execution_count": 14,
   "metadata": {},
   "outputs": [],
   "source": [
    "n=[0 for i in range(len(states_IP_2))]\n",
    "for i in range(len(states_IP_2)):\n",
    "    n[i]=expect(b.dag()*b,rho_RC[i])\n",
    "    "
   ]
  },
  {
   "cell_type": "code",
   "execution_count": 16,
   "metadata": {
    "scrolled": true
   },
   "outputs": [
    {
     "data": {
      "image/png": "[encoded data removed]",
      "text/plain": [
       "<Figure size 1080x360 with 1 Axes>"
      ]
     },
     "metadata": {
      "needs_background": "light"
     },
     "output_type": "display_data"
    }
   ],
   "source": [
    "plt.title(\"p01\")\n",
    "plt.rcParams['figure.figsize'] = [15,5]\n",
    "plt.plot(t3,p01,\"--\",label='Rc_mine', color = \"g\")\n",
    "plt.plot (t1 , T1,\"-\",label='Exact', color = \"b\") ###if scaled with 1.25 they are the same\n",
    "plt.plot(t,p01_2,\"--\",label='Rc_Gernot', color = \"y\")\n",
    "#plt.plot(tlist, result.expect[0])\n",
    "plt.xlabel(\"time\")\n",
    "plt.legend()\n",
    "plt.show()"
   ]
  },
  {
   "cell_type": "markdown",
   "metadata": {},
   "source": [
    "Energy\n",
    "$\\langle E\\rangle (t) = \\langle E\\rangle_{0}+\\frac{2}{\\pi} \\int_{0}^{\\infty} \\frac{\\Gamma(\\omega)}{\\omega} \\sin ^{2}\\left(\\frac{\\omega t}{2}\\right) d \\omega$\n",
    "\n"
   ]
  },
  {
   "cell_type": "code",
   "execution_count": 56,
   "metadata": {},
   "outputs": [
    {
     "name": "stderr",
     "output_type": "stream",
     "text": [
      "/home/luis/anaconda3/lib/python3.7/site-packages/ipykernel_launcher.py:9: IntegrationWarning: The maximum number of subdivisions (50) has been achieved.\n",
      "  If increasing the limit yields no improvement it is advised to analyze \n",
      "  the integrand in order to determine the difficulties.  If the position of a \n",
      "  local difficulty can be determined (singularity, discontinuity) one will \n",
      "  probably gain from splitting up the interval and calling the integrator \n",
      "  on the subranges.  Perhaps a special-purpose integrator should be used.\n",
      "  if __name__ == '__main__':\n"
     ]
    },
    {
     "data": {
      "image/png": "[encoded data removed]",
      "text/plain": [
       "<Figure size 1080x360 with 1 Axes>"
      ]
     },
     "metadata": {
      "needs_background": "light"
     },
     "output_type": "display_data"
    }
   ],
   "source": [
    "def integrand_en(w, t):\n",
    "    return J(w)* (np.sin(w*t/2))**2 / w *2/np.pi\n",
    "\n",
    "def integrand_en_1(w, t):\n",
    "    return J(w)* np.sin(w*t/2) * np.cos(w*t/2)*2/np.pi \n",
    "\n",
    "\n",
    "def expint_en(t):\n",
    "    return quad(integrand_en_1, 0, np.inf, args=(t))[0]\n",
    "\n",
    "\n",
    "def energy_sol(t):\n",
    "    return  expint_en(t) \n",
    "\n",
    "def energy_sol_der(t):\n",
    "    return derivative(energy_sol, t)\n",
    "\n",
    "vecfunc = np.vectorize(energy_sol)\n",
    "ten = np.arange(0.0, 10.0, 0.01)\n",
    "Ten = vecfunc(ten)\n",
    "plt.plot (ten, Ten)\n",
    "plt.show()"
   ]
  },
  {
   "cell_type": "code",
   "execution_count": 57,
   "metadata": {},
   "outputs": [],
   "source": [
    "energy=[0 for i in range(len(states_IP))]\n",
    "for i in range(len(states_IP)):\n",
    "    energy[i]=-expect( g* tensor(sigmaz(),  b.dag() + b ) ,exp_result[i])\n",
    "    \n",
    "denergy=[0 for i in range(len(states_IP))] \n",
    "\n",
    "for i in range(len(states_IP)-1):\n",
    "    denergy[i]=(energy[i+1]-energy[i])/dt"
   ]
  },
  {
   "cell_type": "code",
   "execution_count": 58,
   "metadata": {},
   "outputs": [],
   "source": [
    "energy_g=[0 for i in range(len(states_IP))]\n",
    "for i in range(len(states_IP)):\n",
    "    energy_g[i]=-expect( g* tensor(sigmaz(),  b.dag() + b ) ,states_IP_2[i])\n",
    "    \n",
    "denergy_g=[0 for i in range(len(states_IP))] \n",
    "\n",
    "for i in range(len(states_IP)-1):\n",
    "    denergy_g[i]=(energy[i+1]-energy[i])/dt"
   ]
  },
  {
   "cell_type": "code",
   "execution_count": 59,
   "metadata": {},
   "outputs": [
    {
     "name": "stderr",
     "output_type": "stream",
     "text": [
      "/home/luis/anaconda3/lib/python3.7/site-packages/numpy/core/_asarray.py:85: ComplexWarning: Casting complex values to real discards the imaginary part\n",
      "  return array(a, dtype, copy=False, order=order)\n",
      "/home/luis/anaconda3/lib/python3.7/site-packages/numpy/core/_asarray.py:85: ComplexWarning: Casting complex values to real discards the imaginary part\n",
      "  return array(a, dtype, copy=False, order=order)\n"
     ]
    },
    {
     "data": {
      "image/png": "[encoded data removed]",
      "text/plain": [
       "<Figure size 1080x360 with 1 Axes>"
      ]
     },
     "metadata": {
      "needs_background": "light"
     },
     "output_type": "display_data"
    }
   ],
   "source": [
    "plt.title(\"Energy Current \")\n",
    "plt.rcParams['figure.figsize'] = [15,5]\n",
    "plt.plot (ten, Ten,\"-\",label='Exact', color = \"b\")\n",
    "plt.plot(t3,denergy,\"-\",label='Rc_mine', color = \"g\")\n",
    "plt.plot(t3,denergy_g,\"--\",label='Rc_Gernot', color = \"y\")\n",
    "plt.legend()\n",
    "plt.show()"
   ]
  },
  {
   "cell_type": "markdown",
   "metadata": {},
   "source": [
    "# \n"
   ]
  },
  {
   "cell_type": "code",
   "execution_count": 57,
   "metadata": {},
   "outputs": [],
   "source": [
    "\n",
    "import matplotlib.pyplot as plt\n",
    "import numpy as np\n",
    "import sys\n",
    "sys.path.insert(1,'../../')\n",
    "import q_trajectories as qtr\n"
   ]
  },
  {
   "cell_type": "code",
   "execution_count": 62,
   "metadata": {
    "scrolled": true
   },
   "outputs": [
    {
     "name": "stdout",
     "output_type": "stream",
     "text": [
      "[[  11.75      +0.j    4.33012702+0.j    0.        +0.j ...\n",
      "     0.        +0.j    0.        +0.j    0.        +0.j]\n",
      " [   4.33012702+0.j   13.41666667+0.j    6.12372436+0.j ...\n",
      "     0.        +0.j    0.        +0.j    0.        +0.j]\n",
      " [   0.        +0.j    6.12372436+0.j   15.08333333+0.j ...\n",
      "     0.        +0.j    0.        +0.j    0.        +0.j]\n",
      " ...\n",
      " [   0.        +0.j    0.        +0.j    0.        +0.j ...\n",
      "    39.08333333+0.j  -18.37117307+0.j    0.        +0.j]\n",
      " [   0.        +0.j    0.        +0.j    0.        +0.j ...\n",
      "   -18.37117307+0.j   40.75      +0.j  -18.87458609+0.j]\n",
      " [   0.        +0.j    0.        +0.j    0.        +0.j ...\n",
      "     0.        +0.j  -18.87458609+0.j -182.58333333+0.j]]\n",
      "[[1. 0.]\n",
      " [0. 1.]]\n",
      "0j 0j\n"
     ]
    }
   ],
   "source": [
    "\n",
    "t0 = 0.\n",
    "tf = 1.0\n",
    "time_steps = 1000\n",
    "dt = int(abs(tf-t0)/time_steps)\n",
    "\n",
    "## Time range\n",
    "t = np.linspace(t0, tf, np.int32(time_steps))\n",
    "\n",
    "## Initial state \n",
    "\n",
    "#psi0 = np.array([1,0], dtype = np.complex128)\n",
    "#rho0 = np.array([[0.5,0.2],[0.1,0.5]], dtype = np.complex128, order='C')\n",
    "rho0=rho_init.full()\n",
    "\n",
    "aux2=Hlamb.full()\n",
    "\n",
    "aux=H0.full()\n",
    "\n",
    "## Hamiltonian\n",
    "def H(t):\n",
    "    return aux2+aux\n",
    "\n",
    "## Lindblad operators\n",
    "def L(t):\n",
    "    return [L0[0].full(), L0[1].full()]\n",
    "\n",
    "## feedback test\n",
    "\n",
    "\n",
    "## Unraveling\n",
    "### This matrix must follow the conditions stated on Diosí's paper: |u| <= 1\n",
    "u_matrix =np.eye(len(L(0)))\n",
    "\n",
    "print(H(0))\n",
    "print(u_matrix)\n",
    "\n",
    "\n",
    "aux11=expect(tensor(identity(2) , b.dag() * b.dag() ) , rho_init)- ( expect(tensor(identity(2) , b.dag() ), rho_init) * expect(tensor(identity(2) , b.dag() ) , rho_init) )\n",
    "aux22=expect(tensor(identity(2) , b * b ) , rho_init)- ( expect(tensor(identity(2) , b ), rho_init) * expect(tensor(identity(2) , b ) , rho_init) )\n",
    "\n",
    "print(aux11, aux22)\n",
    "#c1=aux11/(abs(aux11))\n"
   ]
  },
  {
   "cell_type": "code",
   "execution_count": 63,
   "metadata": {},
   "outputs": [],
   "source": [
    "test = qtr.System(H, rho0, t, lindbladList = L, uMatrix = u_matrix)"
   ]
  },
  {
   "cell_type": "code",
   "execution_count": 64,
   "metadata": {},
   "outputs": [],
   "source": [
    "ind_traj_psi = test.diffusiveRhoTrajectory(10)\n"
   ]
  },
  {
   "cell_type": "code",
   "execution_count": 65,
   "metadata": {},
   "outputs": [],
   "source": [
    "#ensemble_rho = test.diffusiveRhoEnsemble(100)\n",
    "rho_diff = test.diffusiveRhoAverage(n_trajectories = 1,  traj_type='density_matrix')"
   ]
  },
  {
   "cell_type": "code",
   "execution_count": 66,
   "metadata": {},
   "outputs": [
    {
     "name": "stdout",
     "output_type": "stream",
     "text": [
      "(40, 40)\n",
      "[[4.05562199e-01+0.j         8.18922468e-03+0.00142587j\n",
      "  0.00000000e+00+0.j         ... 0.00000000e+00+0.j\n",
      "  0.00000000e+00+0.j         0.00000000e+00+0.j        ]\n",
      " [8.18922468e-03-0.00142587j 7.66008047e-02+0.j\n",
      "  2.18742740e-03+0.00038086j ... 0.00000000e+00+0.j\n",
      "  0.00000000e+00+0.j         0.00000000e+00+0.j        ]\n",
      " [0.00000000e+00+0.j         2.18742740e-03-0.00038086j\n",
      "  1.44680232e-02+0.j         ... 0.00000000e+00+0.j\n",
      "  0.00000000e+00+0.j         0.00000000e+00+0.j        ]\n",
      " ...\n",
      " [0.00000000e+00+0.j         0.00000000e+00+0.j\n",
      "  0.00000000e+00+0.j         ... 4.05523517e-15+0.j\n",
      "  0.00000000e+00+0.j         0.00000000e+00+0.j        ]\n",
      " [0.00000000e+00+0.j         0.00000000e+00+0.j\n",
      "  0.00000000e+00+0.j         ... 0.00000000e+00+0.j\n",
      "  0.00000000e+00+0.j         0.00000000e+00+0.j        ]\n",
      " [0.00000000e+00+0.j         0.00000000e+00+0.j\n",
      "  0.00000000e+00+0.j         ... 0.00000000e+00+0.j\n",
      "  0.00000000e+00+0.j         0.00000000e+00+0.j        ]]\n"
     ]
    }
   ],
   "source": [
    "print(rho_diff[0].shape)\n",
    "print(rho_diff[1])"
   ]
  },
  {
   "cell_type": "code",
   "execution_count": 67,
   "metadata": {},
   "outputs": [
    {
     "name": "stdout",
     "output_type": "stream",
     "text": [
      "Quantum object: dims = [[2, 20], [2, 20]], shape = (40, 40), type = oper, isherm = True\n",
      "Qobj data =\n",
      "[[0.4055622  0.         0.         ... 0.         0.         0.        ]\n",
      " [0.         0.0766008  0.         ... 0.         0.         0.        ]\n",
      " [0.         0.         0.01446802 ... 0.         0.         0.        ]\n",
      " ...\n",
      " [0.         0.         0.         ... 0.         0.         0.        ]\n",
      " [0.         0.         0.         ... 0.         0.         0.        ]\n",
      " [0.         0.         0.         ... 0.         0.         0.        ]]\n"
     ]
    }
   ],
   "source": [
    "for i in range(len(rho_diff)):\n",
    "    rho_diff[i]=Qobj(rho_diff[i], dims= [[2, 20], [2, 20]])\n",
    "    \n",
    "    \n",
    "print(rho_diff[0])        "
   ]
  },
  {
   "cell_type": "code",
   "execution_count": 68,
   "metadata": {},
   "outputs": [
    {
     "name": "stdout",
     "output_type": "stream",
     "text": [
      "Quantum object: dims = [[2], [2]], shape = (2, 2), type = oper, isherm = True\n",
      "Qobj data =\n",
      "[[0.5 0.5]\n",
      " [0.5 0.5]]\n"
     ]
    }
   ],
   "source": [
    "exp_result_QT=[0 for i in range(len(rho_diff))]\n",
    "\n",
    "trace_QT=[0 for i in range(len(rho_diff))]\n",
    "\n",
    "for i in range(len(rho_diff)):\n",
    "    exp_result_QT[i]=  (-1j*H0*t[i]).expm()* rho_diff[i]*  (1j*H0*t[i]).expm()\n",
    "    trace_QT[i]=  rho_diff[i].ptrace(0)\n",
    "    #trace_QT[i]=  exp_result_QT[i].ptrace(0)\n",
    "\n",
    "print(trace_QT[0])    \n",
    "\n",
    "\n",
    "p01_QT=[0 for i in range(len(rho_diff))]\n",
    "for i in range(len(rho_diff)):\n",
    "    p01_QT[i]=abs(expect(0.5*(sigmax()+1j*sigmay()),trace_QT[i]))"
   ]
  },
  {
   "cell_type": "code",
   "execution_count": 70,
   "metadata": {},
   "outputs": [
    {
     "data": {
      "image/png": "[encoded data removed]",
      "text/plain": [
       "<Figure size 1080x360 with 1 Axes>"
      ]
     },
     "metadata": {
      "needs_background": "light"
     },
     "output_type": "display_data"
    }
   ],
   "source": [
    "plt.title(\"p01\")\n",
    "plt.rcParams['figure.figsize'] = [15,5]\n",
    "plt.plot(t3,p01,\"--\",label='Limbland Equation', color = \"y\")\n",
    "plt.plot(t,p01_QT,\"--\",label='Quantum Trajectories ', color = \"r\")\n",
    "plt.plot (t1 , T1,\"-\",label='Exact', color = \"b\") \n",
    "plt.xlabel(\"time\")\n",
    "#plt.xlim([0.0, 0.4])\n",
    "#plt.ylim([0.0, 0.5])\n",
    "plt.legend()\n",
    "plt.show()"
   ]
  },
  {
   "cell_type": "code",
   "execution_count": 25,
   "metadata": {},
   "outputs": [
    {
     "name": "stdout",
     "output_type": "stream",
     "text": [
      "Quantum object: dims = [[20], [20]], shape = (20, 20), type = oper, isherm = True\n",
      "Qobj data =\n",
      "[[8.11124397e-01 0.00000000e+00 0.00000000e+00 0.00000000e+00\n",
      "  0.00000000e+00 0.00000000e+00 0.00000000e+00 0.00000000e+00\n",
      "  0.00000000e+00 0.00000000e+00 0.00000000e+00 0.00000000e+00\n",
      "  0.00000000e+00 0.00000000e+00 0.00000000e+00 0.00000000e+00\n",
      "  0.00000000e+00 0.00000000e+00 0.00000000e+00 0.00000000e+00]\n",
      " [0.00000000e+00 1.53201609e-01 0.00000000e+00 0.00000000e+00\n",
      "  0.00000000e+00 0.00000000e+00 0.00000000e+00 0.00000000e+00\n",
      "  0.00000000e+00 0.00000000e+00 0.00000000e+00 0.00000000e+00\n",
      "  0.00000000e+00 0.00000000e+00 0.00000000e+00 0.00000000e+00\n",
      "  0.00000000e+00 0.00000000e+00 0.00000000e+00 0.00000000e+00]\n",
      " [0.00000000e+00 0.00000000e+00 2.89360463e-02 0.00000000e+00\n",
      "  0.00000000e+00 0.00000000e+00 0.00000000e+00 0.00000000e+00\n",
      "  0.00000000e+00 0.00000000e+00 0.00000000e+00 0.00000000e+00\n",
      "  0.00000000e+00 0.00000000e+00 0.00000000e+00 0.00000000e+00\n",
      "  0.00000000e+00 0.00000000e+00 0.00000000e+00 0.00000000e+00]\n",
      " [0.00000000e+00 0.00000000e+00 0.00000000e+00 5.46531320e-03\n",
      "  0.00000000e+00 0.00000000e+00 0.00000000e+00 0.00000000e+00\n",
      "  0.00000000e+00 0.00000000e+00 0.00000000e+00 0.00000000e+00\n",
      "  0.00000000e+00 0.00000000e+00 0.00000000e+00 0.00000000e+00\n",
      "  0.00000000e+00 0.00000000e+00 0.00000000e+00 0.00000000e+00]\n",
      " [0.00000000e+00 0.00000000e+00 0.00000000e+00 0.00000000e+00\n",
      "  1.03226432e-03 0.00000000e+00 0.00000000e+00 0.00000000e+00\n",
      "  0.00000000e+00 0.00000000e+00 0.00000000e+00 0.00000000e+00\n",
      "  0.00000000e+00 0.00000000e+00 0.00000000e+00 0.00000000e+00\n",
      "  0.00000000e+00 0.00000000e+00 0.00000000e+00 0.00000000e+00]\n",
      " [0.00000000e+00 0.00000000e+00 0.00000000e+00 0.00000000e+00\n",
      "  0.00000000e+00 1.94969547e-04 0.00000000e+00 0.00000000e+00\n",
      "  0.00000000e+00 0.00000000e+00 0.00000000e+00 0.00000000e+00\n",
      "  0.00000000e+00 0.00000000e+00 0.00000000e+00 0.00000000e+00\n",
      "  0.00000000e+00 0.00000000e+00 0.00000000e+00 0.00000000e+00]\n",
      " [0.00000000e+00 0.00000000e+00 0.00000000e+00 0.00000000e+00\n",
      "  0.00000000e+00 0.00000000e+00 3.68249907e-05 0.00000000e+00\n",
      "  0.00000000e+00 0.00000000e+00 0.00000000e+00 0.00000000e+00\n",
      "  0.00000000e+00 0.00000000e+00 0.00000000e+00 0.00000000e+00\n",
      "  0.00000000e+00 0.00000000e+00 0.00000000e+00 0.00000000e+00]\n",
      " [0.00000000e+00 0.00000000e+00 0.00000000e+00 0.00000000e+00\n",
      "  0.00000000e+00 0.00000000e+00 0.00000000e+00 6.95534231e-06\n",
      "  0.00000000e+00 0.00000000e+00 0.00000000e+00 0.00000000e+00\n",
      "  0.00000000e+00 0.00000000e+00 0.00000000e+00 0.00000000e+00\n",
      "  0.00000000e+00 0.00000000e+00 0.00000000e+00 0.00000000e+00]\n",
      " [0.00000000e+00 0.00000000e+00 0.00000000e+00 0.00000000e+00\n",
      "  0.00000000e+00 0.00000000e+00 0.00000000e+00 0.00000000e+00\n",
      "  1.31369447e-06 0.00000000e+00 0.00000000e+00 0.00000000e+00\n",
      "  0.00000000e+00 0.00000000e+00 0.00000000e+00 0.00000000e+00\n",
      "  0.00000000e+00 0.00000000e+00 0.00000000e+00 0.00000000e+00]\n",
      " [0.00000000e+00 0.00000000e+00 0.00000000e+00 0.00000000e+00\n",
      "  0.00000000e+00 0.00000000e+00 0.00000000e+00 0.00000000e+00\n",
      "  0.00000000e+00 2.48124835e-07 0.00000000e+00 0.00000000e+00\n",
      "  0.00000000e+00 0.00000000e+00 0.00000000e+00 0.00000000e+00\n",
      "  0.00000000e+00 0.00000000e+00 0.00000000e+00 0.00000000e+00]\n",
      " [0.00000000e+00 0.00000000e+00 0.00000000e+00 0.00000000e+00\n",
      "  0.00000000e+00 0.00000000e+00 0.00000000e+00 0.00000000e+00\n",
      "  0.00000000e+00 0.00000000e+00 4.68647278e-08 0.00000000e+00\n",
      "  0.00000000e+00 0.00000000e+00 0.00000000e+00 0.00000000e+00\n",
      "  0.00000000e+00 0.00000000e+00 0.00000000e+00 0.00000000e+00]\n",
      " [0.00000000e+00 0.00000000e+00 0.00000000e+00 0.00000000e+00\n",
      "  0.00000000e+00 0.00000000e+00 0.00000000e+00 0.00000000e+00\n",
      "  0.00000000e+00 0.00000000e+00 0.00000000e+00 8.85160372e-09\n",
      "  0.00000000e+00 0.00000000e+00 0.00000000e+00 0.00000000e+00\n",
      "  0.00000000e+00 0.00000000e+00 0.00000000e+00 0.00000000e+00]\n",
      " [0.00000000e+00 0.00000000e+00 0.00000000e+00 0.00000000e+00\n",
      "  0.00000000e+00 0.00000000e+00 0.00000000e+00 0.00000000e+00\n",
      "  0.00000000e+00 0.00000000e+00 0.00000000e+00 0.00000000e+00\n",
      "  1.67185199e-09 0.00000000e+00 0.00000000e+00 0.00000000e+00\n",
      "  0.00000000e+00 0.00000000e+00 0.00000000e+00 0.00000000e+00]\n",
      " [0.00000000e+00 0.00000000e+00 0.00000000e+00 0.00000000e+00\n",
      "  0.00000000e+00 0.00000000e+00 0.00000000e+00 0.00000000e+00\n",
      "  0.00000000e+00 0.00000000e+00 0.00000000e+00 0.00000000e+00\n",
      "  0.00000000e+00 3.15772052e-10 0.00000000e+00 0.00000000e+00\n",
      "  0.00000000e+00 0.00000000e+00 0.00000000e+00 0.00000000e+00]\n",
      " [0.00000000e+00 0.00000000e+00 0.00000000e+00 0.00000000e+00\n",
      "  0.00000000e+00 0.00000000e+00 0.00000000e+00 0.00000000e+00\n",
      "  0.00000000e+00 0.00000000e+00 0.00000000e+00 0.00000000e+00\n",
      "  0.00000000e+00 0.00000000e+00 5.96416367e-11 0.00000000e+00\n",
      "  0.00000000e+00 0.00000000e+00 0.00000000e+00 0.00000000e+00]\n",
      " [0.00000000e+00 0.00000000e+00 0.00000000e+00 0.00000000e+00\n",
      "  0.00000000e+00 0.00000000e+00 0.00000000e+00 0.00000000e+00\n",
      "  0.00000000e+00 0.00000000e+00 0.00000000e+00 0.00000000e+00\n",
      "  0.00000000e+00 0.00000000e+00 0.00000000e+00 1.12648501e-11\n",
      "  0.00000000e+00 0.00000000e+00 0.00000000e+00 0.00000000e+00]\n",
      " [0.00000000e+00 0.00000000e+00 0.00000000e+00 0.00000000e+00\n",
      "  0.00000000e+00 0.00000000e+00 0.00000000e+00 0.00000000e+00\n",
      "  0.00000000e+00 0.00000000e+00 0.00000000e+00 0.00000000e+00\n",
      "  0.00000000e+00 0.00000000e+00 0.00000000e+00 0.00000000e+00\n",
      "  2.12765535e-12 0.00000000e+00 0.00000000e+00 0.00000000e+00]\n",
      " [0.00000000e+00 0.00000000e+00 0.00000000e+00 0.00000000e+00\n",
      "  0.00000000e+00 0.00000000e+00 0.00000000e+00 0.00000000e+00\n",
      "  0.00000000e+00 0.00000000e+00 0.00000000e+00 0.00000000e+00\n",
      "  0.00000000e+00 0.00000000e+00 0.00000000e+00 0.00000000e+00\n",
      "  0.00000000e+00 0.00000000e+00 0.00000000e+00 0.00000000e+00]\n",
      " [0.00000000e+00 0.00000000e+00 0.00000000e+00 0.00000000e+00\n",
      "  0.00000000e+00 0.00000000e+00 0.00000000e+00 0.00000000e+00\n",
      "  0.00000000e+00 0.00000000e+00 0.00000000e+00 0.00000000e+00\n",
      "  0.00000000e+00 0.00000000e+00 0.00000000e+00 0.00000000e+00\n",
      "  0.00000000e+00 0.00000000e+00 0.00000000e+00 0.00000000e+00]\n",
      " [0.00000000e+00 0.00000000e+00 0.00000000e+00 0.00000000e+00\n",
      "  0.00000000e+00 0.00000000e+00 0.00000000e+00 0.00000000e+00\n",
      "  0.00000000e+00 0.00000000e+00 0.00000000e+00 0.00000000e+00\n",
      "  0.00000000e+00 0.00000000e+00 0.00000000e+00 0.00000000e+00\n",
      "  0.00000000e+00 0.00000000e+00 0.00000000e+00 0.00000000e+00]]\n"
     ]
    }
   ],
   "source": [
    "##Rc dynamics \n",
    "rho_RC_QT=[0 for i in range(len(rho_diff))]\n",
    "\n",
    "\n",
    "for i in range(len(rho_diff)):\n",
    "    rho_RC_QT[i]=  exp_result_QT[i].ptrace(1)\n",
    "\n",
    "print(rho_RC_QT[0])   "
   ]
  },
  {
   "cell_type": "code",
   "execution_count": 26,
   "metadata": {},
   "outputs": [],
   "source": [
    "n_QT=[0 for i in range(len(rho_diff))]\n",
    "n_sigma=[0 for i in range(len(rho_diff))]\n",
    "plot=[0 for i in range(len(rho_diff))]\n",
    "for i in range(len(rho_diff)):\n",
    "    n_QT[i]=expect(b.dag()*b,rho_RC_QT[i])\n",
    "    n_sigma[i]=expect(b.dag()*b*b.dag()*b,rho_RC_QT[i])- expect(b.dag()*b,rho_RC_QT[i])**2\n",
    "    plot[i]=n_QT[i]+np.sqrt(n_sigma[i])\n"
   ]
  },
  {
   "cell_type": "code",
   "execution_count": null,
   "metadata": {},
   "outputs": [],
   "source": []
  },
  {
   "cell_type": "code",
   "execution_count": 27,
   "metadata": {},
   "outputs": [
    {
     "name": "stderr",
     "output_type": "stream",
     "text": [
      "/home/luis/anaconda3/lib/python3.7/site-packages/numpy/core/_asarray.py:85: ComplexWarning: Casting complex values to real discards the imaginary part\n",
      "  return array(a, dtype, copy=False, order=order)\n",
      "/home/luis/anaconda3/lib/python3.7/site-packages/numpy/core/_asarray.py:85: ComplexWarning: Casting complex values to real discards the imaginary part\n",
      "  return array(a, dtype, copy=False, order=order)\n"
     ]
    },
    {
     "data": {
      "image/png": "[encoded data removed]",
      "text/plain": [
       "<Figure size 1080x360 with 1 Axes>"
      ]
     },
     "metadata": {
      "needs_background": "light"
     },
     "output_type": "display_data"
    }
   ],
   "source": [
    "plt.title(\"Rc_exitation\")\n",
    "plt.rcParams['figure.figsize'] = [15,5]\n",
    "#plt.plot(t,n_QT,\"--\",label='Rc_mode_QT', color = \"g\")\n",
    "plt.plot(t,plot,\"--\",label='Fluctuation', color = \"y\")\n",
    "plt.plot(t3,n,\"--\",label='Rc_mode', color = \"b\")\n",
    "plt.xlabel(\"time\")\n",
    "plt.legend()\n",
    "plt.show()"
   ]
  },
  {
   "cell_type": "code",
   "execution_count": null,
   "metadata": {},
   "outputs": [],
   "source": []
  }
 ],
 "metadata": {
  "kernelspec": {
   "display_name": "Python 3",
   "language": "python",
   "name": "python3"
  },
  "language_info": {
   "codemirror_mode": {
    "name": "ipython",
    "version": 3
   },
   "file_extension": ".py",
   "mimetype": "text/x-python",
   "name": "python",
   "nbconvert_exporter": "python",
   "pygments_lexer": "ipython3",
   "version": "3.7.6"
  }
 },
 "nbformat": 4,
 "nbformat_minor": 4
}
